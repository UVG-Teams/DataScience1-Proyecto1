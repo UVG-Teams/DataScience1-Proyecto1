{
  "nbformat": 4,
  "nbformat_minor": 5,
  "metadata": {
    "kernelspec": {
      "display_name": "Python 3",
      "language": "python",
      "name": "python3"
    },
    "language_info": {
      "codemirror_mode": {
        "name": "ipython",
        "version": 2
      },
      "file_extension": ".py",
      "mimetype": "text/x-python",
      "name": "python",
      "nbconvert_exporter": "python",
      "pygments_lexer": "ipython2",
      "version": "2.7.18"
    },
    "colab": {
      "name": "Proyecto1DS.ipynb",
      "provenance": []
    }
  },
  "cells": [
    {
      "cell_type": "code",
      "metadata": {
        "id": "yQBDQ9AdRvAE"
      },
      "source": [
        "import pandas as pd\n",
        "import numpy as np\n",
        "\n",
        "import os\n",
        "import glob\n",
        "from google.colab import files\n",
        "import os\n",
        "# os.chdir('./Colegios')"
      ],
      "id": "yQBDQ9AdRvAE",
      "execution_count": 1,
      "outputs": []
    },
    {
      "cell_type": "code",
      "metadata": {
        "colab": {
          "resources": {
            "http://localhost:8080/nbextensions/google.colab/files.js": {
              "data": "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",
              "ok": true,
              "headers": [
                [
                  "content-type",
                  "application/javascript"
                ]
              ],
              "status": 200,
              "status_text": ""
            }
          },
          "base_uri": "https://localhost:8080/",
          "height": 820
        },
        "id": "Ch9q9tO9SBc2",
        "outputId": "c6a2b0a1-7eaf-4b04-cf8a-a8b1c697e883"
      },
      "source": [
        "uploaded = files.upload()"
      ],
      "id": "Ch9q9tO9SBc2",
      "execution_count": 2,
      "outputs": [
        {
          "output_type": "display_data",
          "data": {
            "text/html": [
              "\n",
              "     <input type=\"file\" id=\"files-b641c2df-a1a2-4ad9-abd4-5dd97bc13080\" name=\"files[]\" multiple disabled\n",
              "        style=\"border:none\" />\n",
              "     <output id=\"result-b641c2df-a1a2-4ad9-abd4-5dd97bc13080\">\n",
              "      Upload widget is only available when the cell has been executed in the\n",
              "      current browser session. Please rerun this cell to enable.\n",
              "      </output>\n",
              "      <script src=\"/nbextensions/google.colab/files.js\"></script> "
            ],
            "text/plain": [
              "<IPython.core.display.HTML object>"
            ]
          },
          "metadata": {
            "tags": []
          }
        },
        {
          "output_type": "stream",
          "text": [
            "Saving Colegios_Alta Verapaz.csv to Colegios_Alta Verapaz (1).csv\n",
            "Saving Colegios_Baja Verapaz.csv to Colegios_Baja Verapaz (1).csv\n",
            "Saving Colegios_Chimaltenango.csv to Colegios_Chimaltenango (1).csv\n",
            "Saving Colegios_Chiquimula.csv to Colegios_Chiquimula (1).csv\n",
            "Saving Colegios_Ciudad Capital.csv to Colegios_Ciudad Capital (1).csv\n",
            "Saving Colegios_El Progreso.csv to Colegios_El Progreso (1).csv\n",
            "Saving Colegios_Escuintla.csv to Colegios_Escuintla (1).csv\n",
            "Saving Colegios_Guatemala.csv to Colegios_Guatemala (1).csv\n",
            "Saving Colegios_Huehuetenango.csv to Colegios_Huehuetenango (1).csv\n",
            "Saving Colegios_Izabal.csv to Colegios_Izabal (1).csv\n",
            "Saving Colegios_Jalapa.csv to Colegios_Jalapa (1).csv\n",
            "Saving Colegios_Jutiapa.csv to Colegios_Jutiapa (1).csv\n",
            "Saving Colegios_Peten.csv to Colegios_Peten (1).csv\n",
            "Saving Colegios_Quetzaltenango.csv to Colegios_Quetzaltenango (1).csv\n",
            "Saving Colegios_Quiche.csv to Colegios_Quiche (1).csv\n",
            "Saving Colegios_Retahuleu.csv to Colegios_Retahuleu (1).csv\n",
            "Saving Colegios_Sacatepequez.csv to Colegios_Sacatepequez (1).csv\n",
            "Saving Colegios_San Marcos.csv to Colegios_San Marcos (1).csv\n",
            "Saving Colegios_Santa Rosa.csv to Colegios_Santa Rosa (1).csv\n",
            "Saving Colegios_Solola.csv to Colegios_Solola (1).csv\n",
            "Saving Colegios_Suchitepequez.csv to Colegios_Suchitepequez (1).csv\n",
            "Saving Colegios_Totonicapan.csv to Colegios_Totonicapan (1).csv\n",
            "Saving Colegios_Zacapa.csv to Colegios_Zacapa (1).csv\n"
          ],
          "name": "stdout"
        }
      ]
    },
    {
      "cell_type": "code",
      "metadata": {
        "colab": {
          "base_uri": "https://localhost:8080/"
        },
        "id": "uYMdkdmaRvAI",
        "outputId": "4f20eb4c-0d8a-4ba3-c8e5-7e7212927691"
      },
      "source": [
        "# all_filenames = [i for i in glob.glob('*.{}'.format('csv'))]\n",
        "# os.mkdir('temp')\n",
        "all_filenames = []\n",
        "for i in uploaded:\n",
        "    print(i)\n",
        "    f = open(i)\n",
        "    newDoc = open('temp/temp_'+i, 'w+')\n",
        "    for index, line in enumerate(f):\n",
        "        if index != 0:\n",
        "            newDoc.write(line)\n",
        "    file = pd.read_csv('temp/temp_'+i, engine='python', encoding='utf-8', error_bad_lines=False)\n",
        "    all_filenames.append(file)\n",
        "len(all_filenames)"
      ],
      "id": "uYMdkdmaRvAI",
      "execution_count": 4,
      "outputs": [
        {
          "output_type": "stream",
          "text": [
            "Colegios_Alta Verapaz.csv\n",
            "Colegios_Baja Verapaz.csv\n",
            "Colegios_Chimaltenango.csv\n",
            "Colegios_Chiquimula.csv\n",
            "Colegios_Ciudad Capital.csv\n",
            "Colegios_El Progreso.csv\n",
            "Colegios_Escuintla.csv\n",
            "Colegios_Guatemala.csv\n",
            "Colegios_Huehuetenango.csv\n",
            "Colegios_Izabal.csv\n",
            "Colegios_Jalapa.csv\n",
            "Colegios_Jutiapa.csv\n",
            "Colegios_Peten.csv\n",
            "Colegios_Quetzaltenango.csv\n",
            "Colegios_Quiche.csv\n",
            "Colegios_Retahuleu.csv\n",
            "Colegios_Sacatepequez.csv\n",
            "Colegios_San Marcos.csv\n",
            "Colegios_Santa Rosa.csv\n",
            "Colegios_Solola.csv\n",
            "Colegios_Suchitepequez.csv\n",
            "Colegios_Totonicapan.csv\n",
            "Colegios_Zacapa.csv\n"
          ],
          "name": "stdout"
        },
        {
          "output_type": "execute_result",
          "data": {
            "text/plain": [
              "23"
            ]
          },
          "metadata": {
            "tags": []
          },
          "execution_count": 4
        }
      ]
    },
    {
      "cell_type": "code",
      "metadata": {
        "id": "DeE6UHZFRvAK"
      },
      "source": [
        "combined_csv = None\n",
        "combined_csv = pd.concat([f for f in all_filenames ])\n",
        "combined_csv.to_csv( \"combined_csv.csv\", index=False)"
      ],
      "id": "DeE6UHZFRvAK",
      "execution_count": 5,
      "outputs": []
    },
    {
      "cell_type": "code",
      "metadata": {
        "colab": {
          "base_uri": "https://localhost:8080/",
          "height": 496
        },
        "id": "a3o1Mfr6RvAL",
        "outputId": "008a8660-514e-41e2-e2fe-33a6c7fe3373"
      },
      "source": [
        "combined_csv.head()"
      ],
      "id": "a3o1Mfr6RvAL",
      "execution_count": 6,
      "outputs": [
        {
          "output_type": "execute_result",
          "data": {
            "text/html": [
              "<div>\n",
              "<style scoped>\n",
              "    .dataframe tbody tr th:only-of-type {\n",
              "        vertical-align: middle;\n",
              "    }\n",
              "\n",
              "    .dataframe tbody tr th {\n",
              "        vertical-align: top;\n",
              "    }\n",
              "\n",
              "    .dataframe thead th {\n",
              "        text-align: right;\n",
              "    }\n",
              "</style>\n",
              "<table border=\"1\" class=\"dataframe\">\n",
              "  <thead>\n",
              "    <tr style=\"text-align: right;\">\n",
              "      <th></th>\n",
              "      <th>CODIGO</th>\n",
              "      <th>DISTRITO</th>\n",
              "      <th>DEPARTAMENTO</th>\n",
              "      <th>MUNICIPIO</th>\n",
              "      <th>ESTABLECIMIENTO</th>\n",
              "      <th>DIRECCION</th>\n",
              "      <th>TELEFONO</th>\n",
              "      <th>SUPERVISOR</th>\n",
              "      <th>DIRECTOR</th>\n",
              "      <th>NIVEL</th>\n",
              "      <th>SECTOR</th>\n",
              "      <th>AREA</th>\n",
              "      <th>STATUS</th>\n",
              "      <th>MODALIDAD</th>\n",
              "      <th>JORNADA</th>\n",
              "      <th>PLAN</th>\n",
              "      <th>DEPARTAMENTAL</th>\n",
              "    </tr>\n",
              "  </thead>\n",
              "  <tbody>\n",
              "    <tr>\n",
              "      <th>0</th>\n",
              "      <td>16-01-0138-46</td>\n",
              "      <td>16-031</td>\n",
              "      <td>ALTA VERAPAZ</td>\n",
              "      <td>COBAN</td>\n",
              "      <td>COLEGIO COBAN</td>\n",
              "      <td>KM.2 SALIDA A SAN JUAN CHAMELCO ZONA 8</td>\n",
              "      <td>77945104</td>\n",
              "      <td>CESAR ROLANDO CHOCOOJ YALIBAT</td>\n",
              "      <td>JULIO CESAR VILLELA AMADO</td>\n",
              "      <td>DIVERSIFICADO</td>\n",
              "      <td>PRIVADO</td>\n",
              "      <td>URBANA</td>\n",
              "      <td>ABIERTA</td>\n",
              "      <td>MONOLINGUE</td>\n",
              "      <td>MATUTINA</td>\n",
              "      <td>DIARIO(REGULAR)</td>\n",
              "      <td>ALTA VERAPAZ</td>\n",
              "    </tr>\n",
              "    <tr>\n",
              "      <th>1</th>\n",
              "      <td>16-01-0139-46</td>\n",
              "      <td>16-031</td>\n",
              "      <td>ALTA VERAPAZ</td>\n",
              "      <td>COBAN</td>\n",
              "      <td>COLEGIO PARTICULAR MIXTO VERAPAZ</td>\n",
              "      <td>KM 209.5 ENTRADA A LA CIUDAD</td>\n",
              "      <td>77367402</td>\n",
              "      <td>CESAR ROLANDO CHOCOOJ YALIBAT</td>\n",
              "      <td>NaN</td>\n",
              "      <td>DIVERSIFICADO</td>\n",
              "      <td>PRIVADO</td>\n",
              "      <td>URBANA</td>\n",
              "      <td>ABIERTA</td>\n",
              "      <td>MONOLINGUE</td>\n",
              "      <td>MATUTINA</td>\n",
              "      <td>DIARIO(REGULAR)</td>\n",
              "      <td>ALTA VERAPAZ</td>\n",
              "    </tr>\n",
              "    <tr>\n",
              "      <th>2</th>\n",
              "      <td>16-01-0140-46</td>\n",
              "      <td>16-031</td>\n",
              "      <td>ALTA VERAPAZ</td>\n",
              "      <td>COBAN</td>\n",
              "      <td>COLEGIO \"LA INMACULADA\"</td>\n",
              "      <td>7A. AVENIDA 11-109 ZONA 6</td>\n",
              "      <td>49532425</td>\n",
              "      <td>CESAR ROLANDO CHOCOOJ YALIBAT</td>\n",
              "      <td>MERCEDES QUIROS QUIROS</td>\n",
              "      <td>DIVERSIFICADO</td>\n",
              "      <td>PRIVADO</td>\n",
              "      <td>URBANA</td>\n",
              "      <td>ABIERTA</td>\n",
              "      <td>MONOLINGUE</td>\n",
              "      <td>MATUTINA</td>\n",
              "      <td>DIARIO(REGULAR)</td>\n",
              "      <td>ALTA VERAPAZ</td>\n",
              "    </tr>\n",
              "    <tr>\n",
              "      <th>3</th>\n",
              "      <td>16-01-0141-46</td>\n",
              "      <td>16-005</td>\n",
              "      <td>ALTA VERAPAZ</td>\n",
              "      <td>COBAN</td>\n",
              "      <td>ESCUELA NACIONAL DE CIENCIAS COMERCIALES</td>\n",
              "      <td>2A CALLE 11-10 ZONA 2</td>\n",
              "      <td>79514215</td>\n",
              "      <td>JUAN CARLOS WINTER CAAL</td>\n",
              "      <td>NaN</td>\n",
              "      <td>DIVERSIFICADO</td>\n",
              "      <td>OFICIAL</td>\n",
              "      <td>URBANA</td>\n",
              "      <td>ABIERTA</td>\n",
              "      <td>MONOLINGUE</td>\n",
              "      <td>MATUTINA</td>\n",
              "      <td>DIARIO(REGULAR)</td>\n",
              "      <td>ALTA VERAPAZ</td>\n",
              "    </tr>\n",
              "    <tr>\n",
              "      <th>4</th>\n",
              "      <td>16-01-0142-46</td>\n",
              "      <td>16-005</td>\n",
              "      <td>ALTA VERAPAZ</td>\n",
              "      <td>COBAN</td>\n",
              "      <td>INSTITUTO NORMAL MIXTO DEL NORTE 'EMILIO ROSAL...</td>\n",
              "      <td>3A AVE 6-23 ZONA 11</td>\n",
              "      <td>79521468</td>\n",
              "      <td>JUAN CARLOS WINTER CAAL</td>\n",
              "      <td>NaN</td>\n",
              "      <td>DIVERSIFICADO</td>\n",
              "      <td>OFICIAL</td>\n",
              "      <td>URBANA</td>\n",
              "      <td>ABIERTA</td>\n",
              "      <td>BILINGUE</td>\n",
              "      <td>VESPERTINA</td>\n",
              "      <td>DIARIO(REGULAR)</td>\n",
              "      <td>ALTA VERAPAZ</td>\n",
              "    </tr>\n",
              "  </tbody>\n",
              "</table>\n",
              "</div>"
            ],
            "text/plain": [
              "          CODIGO DISTRITO  ...             PLAN DEPARTAMENTAL\n",
              "0  16-01-0138-46   16-031  ...  DIARIO(REGULAR)  ALTA VERAPAZ\n",
              "1  16-01-0139-46   16-031  ...  DIARIO(REGULAR)  ALTA VERAPAZ\n",
              "2  16-01-0140-46   16-031  ...  DIARIO(REGULAR)  ALTA VERAPAZ\n",
              "3  16-01-0141-46   16-005  ...  DIARIO(REGULAR)  ALTA VERAPAZ\n",
              "4  16-01-0142-46   16-005  ...  DIARIO(REGULAR)  ALTA VERAPAZ\n",
              "\n",
              "[5 rows x 17 columns]"
            ]
          },
          "metadata": {
            "tags": []
          },
          "execution_count": 6
        }
      ]
    },
    {
      "cell_type": "code",
      "metadata": {
        "colab": {
          "base_uri": "https://localhost:8080/"
        },
        "id": "vXZ0X8BCRvAM",
        "outputId": "d3949091-a3e5-4b88-ee02-224142e6ab50"
      },
      "source": [
        "combined_csv.count()"
      ],
      "id": "vXZ0X8BCRvAM",
      "execution_count": 7,
      "outputs": [
        {
          "output_type": "execute_result",
          "data": {
            "text/plain": [
              "CODIGO             7617\n",
              "DISTRITO           7408\n",
              "DEPARTAMENTO       7617\n",
              "MUNICIPIO          7617\n",
              "ESTABLECIMIENTO    7617\n",
              "DIRECCION          7564\n",
              "TELEFONO           7066\n",
              "SUPERVISOR         7407\n",
              "DIRECTOR           6006\n",
              "NIVEL              7617\n",
              "SECTOR             7617\n",
              "AREA               7617\n",
              "STATUS             7617\n",
              "MODALIDAD          7617\n",
              "JORNADA            7617\n",
              "PLAN               7617\n",
              "DEPARTAMENTAL      7617\n",
              "dtype: int64"
            ]
          },
          "metadata": {
            "tags": []
          },
          "execution_count": 7
        }
      ]
    },
    {
      "cell_type": "code",
      "metadata": {
        "colab": {
          "base_uri": "https://localhost:8080/"
        },
        "id": "XGKPISs7RvAN",
        "outputId": "c2c5550f-0bce-483a-fc40-74dc524e1a71"
      },
      "source": [
        "combined_csv.dtypes"
      ],
      "id": "XGKPISs7RvAN",
      "execution_count": 8,
      "outputs": [
        {
          "output_type": "execute_result",
          "data": {
            "text/plain": [
              "CODIGO             object\n",
              "DISTRITO           object\n",
              "DEPARTAMENTO       object\n",
              "MUNICIPIO          object\n",
              "ESTABLECIMIENTO    object\n",
              "DIRECCION          object\n",
              "TELEFONO           object\n",
              "SUPERVISOR         object\n",
              "DIRECTOR           object\n",
              "NIVEL              object\n",
              "SECTOR             object\n",
              "AREA               object\n",
              "STATUS             object\n",
              "MODALIDAD          object\n",
              "JORNADA            object\n",
              "PLAN               object\n",
              "DEPARTAMENTAL      object\n",
              "dtype: object"
            ]
          },
          "metadata": {
            "tags": []
          },
          "execution_count": 8
        }
      ]
    },
    {
      "cell_type": "markdown",
      "metadata": {
        "id": "5uKHCSOfRvAN"
      },
      "source": [
        "# Duplicados"
      ],
      "id": "5uKHCSOfRvAN"
    },
    {
      "cell_type": "code",
      "metadata": {
        "colab": {
          "base_uri": "https://localhost:8080/"
        },
        "id": "K0TALPuURvAO",
        "outputId": "b1d1486d-255f-44ce-979b-084fe044e276"
      },
      "source": [
        "combined_csv.duplicated().sum()"
      ],
      "id": "K0TALPuURvAO",
      "execution_count": 9,
      "outputs": [
        {
          "output_type": "execute_result",
          "data": {
            "text/plain": [
              "0"
            ]
          },
          "metadata": {
            "tags": []
          },
          "execution_count": 9
        }
      ]
    },
    {
      "cell_type": "code",
      "metadata": {
        "colab": {
          "base_uri": "https://localhost:8080/"
        },
        "id": "7fjkGrpwRvAO",
        "outputId": "3c18276a-6abd-4494-969f-ae6864c17457"
      },
      "source": [
        "combined_csv.ESTABLECIMIENTO.duplicated().sum()"
      ],
      "id": "7fjkGrpwRvAO",
      "execution_count": 10,
      "outputs": [
        {
          "output_type": "execute_result",
          "data": {
            "text/plain": [
              "3024"
            ]
          },
          "metadata": {
            "tags": []
          },
          "execution_count": 10
        }
      ]
    },
    {
      "cell_type": "code",
      "metadata": {
        "colab": {
          "base_uri": "https://localhost:8080/"
        },
        "id": "US--weQxRvAP",
        "outputId": "913989c0-e573-44c7-a64d-40f88b96b9a0"
      },
      "source": [
        "duplicates = combined_csv[combined_csv['ESTABLECIMIENTO'].duplicated(keep=False)]['ESTABLECIMIENTO'].tolist()\n",
        "duplicates[:10]"
      ],
      "id": "US--weQxRvAP",
      "execution_count": 11,
      "outputs": [
        {
          "output_type": "execute_result",
          "data": {
            "text/plain": [
              "['COLEGIO PARTICULAR MIXTO VERAPAZ',\n",
              " 'COLEGIO \"LA INMACULADA\"',\n",
              " 'ESCUELA NACIONAL DE CIENCIAS COMERCIALES',\n",
              " 'COLEGIO PARTICULAR MIXTO IMPERIAL',\n",
              " 'COLEGIO \"LA INMACULADA\"',\n",
              " 'INSTITUTO NACIONAL DE EDUCACION DIVERSIFICADA',\n",
              " 'LICEO AMERICANO DEL NORTE',\n",
              " 'LICEO AMERICANO DEL NORTE',\n",
              " 'INSTITUTO PRIVADO RAUL CHENAL HEINEMANN',\n",
              " 'LICEO MIGUEL ANGEL ASTURIAS']"
            ]
          },
          "metadata": {
            "tags": []
          },
          "execution_count": 11
        }
      ]
    },
    {
      "cell_type": "code",
      "metadata": {
        "id": "RdepgLbSRvAP"
      },
      "source": [
        "set_duplicates = set(duplicates)\n",
        "for r in set_duplicates:\n",
        "    dup = combined_csv[combined_csv['ESTABLECIMIENTO'] == r]\n",
        "    for i in dup.index:\n",
        "      if i in combined_csv.index:\n",
        "        combined_csv = combined_csv.drop(i)"
      ],
      "id": "RdepgLbSRvAP",
      "execution_count": 13,
      "outputs": []
    },
    {
      "cell_type": "code",
      "metadata": {
        "colab": {
          "base_uri": "https://localhost:8080/"
        },
        "id": "PnuPiT3gWGXf",
        "outputId": "2c9557a7-a704-4c65-af1d-ce08fac82f43"
      },
      "source": [
        "combined_csv.ESTABLECIMIENTO.duplicated().sum()"
      ],
      "id": "PnuPiT3gWGXf",
      "execution_count": 15,
      "outputs": [
        {
          "output_type": "execute_result",
          "data": {
            "text/plain": [
              "0"
            ]
          },
          "metadata": {
            "tags": []
          },
          "execution_count": 15
        }
      ]
    },
    {
      "cell_type": "code",
      "metadata": {
        "colab": {
          "base_uri": "https://localhost:8080/",
          "height": 69
        },
        "id": "xQ1EPWJ7RvAQ",
        "outputId": "14cf65ca-f59f-444c-fc4b-587286d47049"
      },
      "source": [
        "combined_csv[combined_csv['ESTABLECIMIENTO'] =='INSTITUTO PRIVADO MIXTO DE OCCIDENTE']"
      ],
      "id": "xQ1EPWJ7RvAQ",
      "execution_count": 16,
      "outputs": [
        {
          "output_type": "execute_result",
          "data": {
            "text/html": [
              "<div>\n",
              "<style scoped>\n",
              "    .dataframe tbody tr th:only-of-type {\n",
              "        vertical-align: middle;\n",
              "    }\n",
              "\n",
              "    .dataframe tbody tr th {\n",
              "        vertical-align: top;\n",
              "    }\n",
              "\n",
              "    .dataframe thead th {\n",
              "        text-align: right;\n",
              "    }\n",
              "</style>\n",
              "<table border=\"1\" class=\"dataframe\">\n",
              "  <thead>\n",
              "    <tr style=\"text-align: right;\">\n",
              "      <th></th>\n",
              "      <th>CODIGO</th>\n",
              "      <th>DISTRITO</th>\n",
              "      <th>DEPARTAMENTO</th>\n",
              "      <th>MUNICIPIO</th>\n",
              "      <th>ESTABLECIMIENTO</th>\n",
              "      <th>DIRECCION</th>\n",
              "      <th>TELEFONO</th>\n",
              "      <th>SUPERVISOR</th>\n",
              "      <th>DIRECTOR</th>\n",
              "      <th>NIVEL</th>\n",
              "      <th>SECTOR</th>\n",
              "      <th>AREA</th>\n",
              "      <th>STATUS</th>\n",
              "      <th>MODALIDAD</th>\n",
              "      <th>JORNADA</th>\n",
              "      <th>PLAN</th>\n",
              "      <th>DEPARTAMENTAL</th>\n",
              "    </tr>\n",
              "  </thead>\n",
              "  <tbody>\n",
              "  </tbody>\n",
              "</table>\n",
              "</div>"
            ],
            "text/plain": [
              "Empty DataFrame\n",
              "Columns: [CODIGO, DISTRITO, DEPARTAMENTO, MUNICIPIO, ESTABLECIMIENTO, DIRECCION, TELEFONO, SUPERVISOR, DIRECTOR, NIVEL, SECTOR, AREA, STATUS, MODALIDAD, JORNADA, PLAN, DEPARTAMENTAL]\n",
              "Index: []"
            ]
          },
          "metadata": {
            "tags": []
          },
          "execution_count": 16
        }
      ]
    },
    {
      "cell_type": "markdown",
      "metadata": {
        "id": "c-Lh2BQiRvAQ"
      },
      "source": [
        "# Valores nulos"
      ],
      "id": "c-Lh2BQiRvAQ"
    },
    {
      "cell_type": "code",
      "metadata": {
        "colab": {
          "base_uri": "https://localhost:8080/"
        },
        "id": "UnRjLBmvRvAQ",
        "outputId": "0f93025e-df55-45b7-a98f-284c22842c14"
      },
      "source": [
        "combined_csv.isnull().sum()"
      ],
      "id": "UnRjLBmvRvAQ",
      "execution_count": 17,
      "outputs": [
        {
          "output_type": "execute_result",
          "data": {
            "text/plain": [
              "CODIGO               0\n",
              "DISTRITO            24\n",
              "DEPARTAMENTO         0\n",
              "MUNICIPIO            0\n",
              "ESTABLECIMIENTO      0\n",
              "DIRECCION            3\n",
              "TELEFONO            45\n",
              "SUPERVISOR          24\n",
              "DIRECTOR           137\n",
              "NIVEL                0\n",
              "SECTOR               0\n",
              "AREA                 0\n",
              "STATUS               0\n",
              "MODALIDAD            0\n",
              "JORNADA              0\n",
              "PLAN                 0\n",
              "DEPARTAMENTAL        0\n",
              "dtype: int64"
            ]
          },
          "metadata": {
            "tags": []
          },
          "execution_count": 17
        }
      ]
    },
    {
      "cell_type": "code",
      "metadata": {
        "id": "sxgN0d1VRvAR"
      },
      "source": [
        "combined_csv.DISTRITO = combined_csv.DISTRITO.fillna('00-000')"
      ],
      "id": "sxgN0d1VRvAR",
      "execution_count": 18,
      "outputs": []
    },
    {
      "cell_type": "code",
      "metadata": {
        "id": "gTJ9KCd8RvAR"
      },
      "source": [
        "combined_csv.DIRECCION = combined_csv.DIRECCION.fillna('Sin especificar')"
      ],
      "id": "gTJ9KCd8RvAR",
      "execution_count": 19,
      "outputs": []
    },
    {
      "cell_type": "code",
      "metadata": {
        "id": "hHqhw_4iRvAR"
      },
      "source": [
        "combined_csv.TELEFONO = combined_csv.TELEFONO.fillna('Sin especificar')"
      ],
      "id": "hHqhw_4iRvAR",
      "execution_count": 20,
      "outputs": []
    },
    {
      "cell_type": "code",
      "metadata": {
        "id": "yd9sHYXkRvAS"
      },
      "source": [
        "combined_csv.DIRECTOR = combined_csv.DIRECTOR.fillna('Sin especificar')"
      ],
      "id": "yd9sHYXkRvAS",
      "execution_count": 21,
      "outputs": []
    },
    {
      "cell_type": "code",
      "metadata": {
        "id": "4BY4BZ_NRvAS"
      },
      "source": [
        "combined_csv.SUPERVISOR = combined_csv.SUPERVISOR.fillna('Sin especificar')"
      ],
      "id": "4BY4BZ_NRvAS",
      "execution_count": 22,
      "outputs": []
    },
    {
      "cell_type": "code",
      "metadata": {
        "id": "9zHSBlFoRvAT"
      },
      "source": [
        "hidden_NaN = combined_csv.DIRECTOR.str.contains('[.-]')"
      ],
      "id": "9zHSBlFoRvAT",
      "execution_count": 23,
      "outputs": []
    },
    {
      "cell_type": "code",
      "metadata": {
        "colab": {
          "base_uri": "https://localhost:8080/",
          "height": 513
        },
        "id": "X2kG18l-RvAT",
        "outputId": "a44a648f-12bd-4c56-cb26-c38422b60ee6"
      },
      "source": [
        "combined_csv.loc[hidden_NaN].head()"
      ],
      "id": "X2kG18l-RvAT",
      "execution_count": 24,
      "outputs": [
        {
          "output_type": "execute_result",
          "data": {
            "text/html": [
              "<div>\n",
              "<style scoped>\n",
              "    .dataframe tbody tr th:only-of-type {\n",
              "        vertical-align: middle;\n",
              "    }\n",
              "\n",
              "    .dataframe tbody tr th {\n",
              "        vertical-align: top;\n",
              "    }\n",
              "\n",
              "    .dataframe thead th {\n",
              "        text-align: right;\n",
              "    }\n",
              "</style>\n",
              "<table border=\"1\" class=\"dataframe\">\n",
              "  <thead>\n",
              "    <tr style=\"text-align: right;\">\n",
              "      <th></th>\n",
              "      <th>CODIGO</th>\n",
              "      <th>DISTRITO</th>\n",
              "      <th>DEPARTAMENTO</th>\n",
              "      <th>MUNICIPIO</th>\n",
              "      <th>ESTABLECIMIENTO</th>\n",
              "      <th>DIRECCION</th>\n",
              "      <th>TELEFONO</th>\n",
              "      <th>SUPERVISOR</th>\n",
              "      <th>DIRECTOR</th>\n",
              "      <th>NIVEL</th>\n",
              "      <th>SECTOR</th>\n",
              "      <th>AREA</th>\n",
              "      <th>STATUS</th>\n",
              "      <th>MODALIDAD</th>\n",
              "      <th>JORNADA</th>\n",
              "      <th>PLAN</th>\n",
              "      <th>DEPARTAMENTAL</th>\n",
              "    </tr>\n",
              "  </thead>\n",
              "  <tbody>\n",
              "    <tr>\n",
              "      <th>538</th>\n",
              "      <td>00-01-9798-46</td>\n",
              "      <td>99-001</td>\n",
              "      <td>CIUDAD CAPITAL</td>\n",
              "      <td>ZONA 1</td>\n",
              "      <td>INSTITUTO GUATEMALA (GUATEMALA INSTITUTE)</td>\n",
              "      <td>11 CALLE 2-52, ZONA 1</td>\n",
              "      <td>22067425</td>\n",
              "      <td>SILVIA EUGENIA VALDEZ MONTERROSO DE CARBALLO</td>\n",
              "      <td>----</td>\n",
              "      <td>DIVERSIFICADO</td>\n",
              "      <td>PRIVADO</td>\n",
              "      <td>URBANA</td>\n",
              "      <td>TEMPORAL TITULOS</td>\n",
              "      <td>MONOLINGUE</td>\n",
              "      <td>MATUTINA</td>\n",
              "      <td>DIARIO(REGULAR)</td>\n",
              "      <td>GUATEMALA NORTE</td>\n",
              "    </tr>\n",
              "    <tr>\n",
              "      <th>554</th>\n",
              "      <td>00-02-0005-46</td>\n",
              "      <td>01-301</td>\n",
              "      <td>CIUDAD CAPITAL</td>\n",
              "      <td>ZONA 2</td>\n",
              "      <td>COLEGIO MIXTO PRIVADO EL DEBER</td>\n",
              "      <td>AVENIDA SIMEON CAÑAS, 06-11</td>\n",
              "      <td>22541365</td>\n",
              "      <td>ERICK ESTUARDO SANCHEZ ARCHILA</td>\n",
              "      <td>---</td>\n",
              "      <td>DIVERSIFICADO</td>\n",
              "      <td>PRIVADO</td>\n",
              "      <td>URBANA</td>\n",
              "      <td>CERRADA TEMPORALMENTE</td>\n",
              "      <td>MONOLINGUE</td>\n",
              "      <td>MATUTINA</td>\n",
              "      <td>DIARIO(REGULAR)</td>\n",
              "      <td>GUATEMALA NORTE</td>\n",
              "    </tr>\n",
              "    <tr>\n",
              "      <th>586</th>\n",
              "      <td>00-02-7873-46</td>\n",
              "      <td>01-627</td>\n",
              "      <td>CIUDAD CAPITAL</td>\n",
              "      <td>ZONA 2</td>\n",
              "      <td>COLEGIO SAN ANGEL (BACHILLERATO POR MADUREZ)</td>\n",
              "      <td>14 CALLE 11-06 CIUDAD NUEVA</td>\n",
              "      <td>22540214</td>\n",
              "      <td>ISAURA AMPARO RECINOS CARRILLO</td>\n",
              "      <td>----</td>\n",
              "      <td>DIVERSIFICADO</td>\n",
              "      <td>PRIVADO</td>\n",
              "      <td>URBANA</td>\n",
              "      <td>CERRADA TEMPORALMENTE</td>\n",
              "      <td>MONOLINGUE</td>\n",
              "      <td>DOBLE</td>\n",
              "      <td>FIN DE SEMANA</td>\n",
              "      <td>GUATEMALA NORTE</td>\n",
              "    </tr>\n",
              "    <tr>\n",
              "      <th>608</th>\n",
              "      <td>00-03-0045-46</td>\n",
              "      <td>01-302</td>\n",
              "      <td>CIUDAD CAPITAL</td>\n",
              "      <td>ZONA 3</td>\n",
              "      <td>COLEGIO MESOAMERICA</td>\n",
              "      <td>7A. AVENIDA 30-47 ZONA 3</td>\n",
              "      <td>40828626</td>\n",
              "      <td>HECTOR EDELMIRO FLORES BRINGUEZ</td>\n",
              "      <td>PEM. NIXON AROLDO MÉNDEZ ROJAS</td>\n",
              "      <td>DIVERSIFICADO</td>\n",
              "      <td>PRIVADO</td>\n",
              "      <td>URBANA</td>\n",
              "      <td>ABIERTA</td>\n",
              "      <td>MONOLINGUE</td>\n",
              "      <td>VESPERTINA</td>\n",
              "      <td>DIARIO(REGULAR)</td>\n",
              "      <td>GUATEMALA NORTE</td>\n",
              "    </tr>\n",
              "    <tr>\n",
              "      <th>707</th>\n",
              "      <td>00-06-0527-46</td>\n",
              "      <td>01-102</td>\n",
              "      <td>CIUDAD CAPITAL</td>\n",
              "      <td>ZONA 6</td>\n",
              "      <td>INSTITUTO PRIVADO MIXTO DE EDUCACION DIVERSIFI...</td>\n",
              "      <td>1A CALLE 12-71</td>\n",
              "      <td>22885288</td>\n",
              "      <td>ZIZI ARELY LOPEZ CHINCHILLA</td>\n",
              "      <td>---</td>\n",
              "      <td>DIVERSIFICADO</td>\n",
              "      <td>PRIVADO</td>\n",
              "      <td>URBANA</td>\n",
              "      <td>ABIERTA</td>\n",
              "      <td>MONOLINGUE</td>\n",
              "      <td>MATUTINA</td>\n",
              "      <td>DIARIO(REGULAR)</td>\n",
              "      <td>GUATEMALA NORTE</td>\n",
              "    </tr>\n",
              "  </tbody>\n",
              "</table>\n",
              "</div>"
            ],
            "text/plain": [
              "            CODIGO DISTRITO  ...             PLAN    DEPARTAMENTAL\n",
              "538  00-01-9798-46   99-001  ...  DIARIO(REGULAR)  GUATEMALA NORTE\n",
              "554  00-02-0005-46   01-301  ...  DIARIO(REGULAR)  GUATEMALA NORTE\n",
              "586  00-02-7873-46   01-627  ...    FIN DE SEMANA  GUATEMALA NORTE\n",
              "608  00-03-0045-46   01-302  ...  DIARIO(REGULAR)  GUATEMALA NORTE\n",
              "707  00-06-0527-46   01-102  ...  DIARIO(REGULAR)  GUATEMALA NORTE\n",
              "\n",
              "[5 rows x 17 columns]"
            ]
          },
          "metadata": {
            "tags": []
          },
          "execution_count": 24
        }
      ]
    },
    {
      "cell_type": "code",
      "metadata": {
        "scrolled": false,
        "id": "C2EpVKbLRvAU"
      },
      "source": [
        "h = combined_csv.loc[hidden_NaN]"
      ],
      "id": "C2EpVKbLRvAU",
      "execution_count": 25,
      "outputs": []
    },
    {
      "cell_type": "code",
      "metadata": {
        "colab": {
          "base_uri": "https://localhost:8080/"
        },
        "id": "zBqsWAiqRvAU",
        "outputId": "b0e9a931-c1ec-46f6-c856-096d207cb362"
      },
      "source": [
        "len(combined_csv.DIRECTOR[hidden_NaN])"
      ],
      "id": "zBqsWAiqRvAU",
      "execution_count": 26,
      "outputs": [
        {
          "output_type": "execute_result",
          "data": {
            "text/plain": [
              "19"
            ]
          },
          "metadata": {
            "tags": []
          },
          "execution_count": 26
        }
      ]
    },
    {
      "cell_type": "code",
      "metadata": {
        "id": "6Hp3px27RvAU"
      },
      "source": [
        "for i in list(h.index):\n",
        "    combined_csv['DIRECTOR'][i] = 'Sin especificar'"
      ],
      "id": "6Hp3px27RvAU",
      "execution_count": 27,
      "outputs": []
    },
    {
      "cell_type": "code",
      "metadata": {
        "id": "f1-IWNwzRvAV"
      },
      "source": [
        "hidden_NaN = combined_csv.DIRECTOR.str.contains('[.-]')"
      ],
      "id": "f1-IWNwzRvAV",
      "execution_count": 28,
      "outputs": []
    },
    {
      "cell_type": "code",
      "metadata": {
        "colab": {
          "base_uri": "https://localhost:8080/"
        },
        "id": "Gq2UJpE8RvAY",
        "outputId": "fe5319f2-6c10-4ec4-e401-79ffee7a9421"
      },
      "source": [
        "len(combined_csv.DIRECTOR[hidden_NaN])"
      ],
      "id": "Gq2UJpE8RvAY",
      "execution_count": 29,
      "outputs": [
        {
          "output_type": "execute_result",
          "data": {
            "text/plain": [
              "0"
            ]
          },
          "metadata": {
            "tags": []
          },
          "execution_count": 29
        }
      ]
    },
    {
      "cell_type": "code",
      "metadata": {
        "scrolled": false,
        "colab": {
          "base_uri": "https://localhost:8080/"
        },
        "id": "xMLPYTFwRvAZ",
        "outputId": "e46e6820-c6a4-404b-cd9a-d16476607dcf"
      },
      "source": [
        "combined_csv.isnull().sum()"
      ],
      "id": "xMLPYTFwRvAZ",
      "execution_count": 30,
      "outputs": [
        {
          "output_type": "execute_result",
          "data": {
            "text/plain": [
              "CODIGO             0\n",
              "DISTRITO           0\n",
              "DEPARTAMENTO       0\n",
              "MUNICIPIO          0\n",
              "ESTABLECIMIENTO    0\n",
              "DIRECCION          0\n",
              "TELEFONO           0\n",
              "SUPERVISOR         0\n",
              "DIRECTOR           0\n",
              "NIVEL              0\n",
              "SECTOR             0\n",
              "AREA               0\n",
              "STATUS             0\n",
              "MODALIDAD          0\n",
              "JORNADA            0\n",
              "PLAN               0\n",
              "DEPARTAMENTAL      0\n",
              "dtype: int64"
            ]
          },
          "metadata": {
            "tags": []
          },
          "execution_count": 30
        }
      ]
    },
    {
      "cell_type": "code",
      "metadata": {
        "id": "dC5MknMIRvAZ"
      },
      "source": [
        "combined_csv.to_csv( \"clean_dataset.csv\", index=False)"
      ],
      "id": "dC5MknMIRvAZ",
      "execution_count": 31,
      "outputs": []
    },
    {
      "cell_type": "markdown",
      "metadata": {
        "id": "SFpjk5DwZDLn"
      },
      "source": [
        "# Sección nueva"
      ],
      "id": "SFpjk5DwZDLn"
    }
  ]
}