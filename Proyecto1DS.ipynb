{
 "cells": [
  {
   "cell_type": "code",
   "execution_count": 116,
   "id": "97ef2d0f-6f92-42ee-9e2e-82c3628bc557",
   "metadata": {},
   "outputs": [
    {
     "ename": "FileNotFoundError",
     "evalue": "[Errno 2] No such file or directory: './Colegios'",
     "output_type": "error",
     "traceback": [
      "\u001b[0;31m---------------------------------------------------------------------------\u001b[0m",
      "\u001b[0;31mFileNotFoundError\u001b[0m                         Traceback (most recent call last)",
      "\u001b[0;32m/var/folders/z9/wnfc77ln1bd8v7l_z7_h2d5w0000gn/T/ipykernel_1737/2485302568.py\u001b[0m in \u001b[0;36m<module>\u001b[0;34m\u001b[0m\n\u001b[1;32m      4\u001b[0m \u001b[0;32mimport\u001b[0m \u001b[0mos\u001b[0m\u001b[0;34m\u001b[0m\u001b[0;34m\u001b[0m\u001b[0m\n\u001b[1;32m      5\u001b[0m \u001b[0;32mimport\u001b[0m \u001b[0mglob\u001b[0m\u001b[0;34m\u001b[0m\u001b[0;34m\u001b[0m\u001b[0m\n\u001b[0;32m----> 6\u001b[0;31m \u001b[0mos\u001b[0m\u001b[0;34m.\u001b[0m\u001b[0mchdir\u001b[0m\u001b[0;34m(\u001b[0m\u001b[0;34m'./Colegios'\u001b[0m\u001b[0;34m)\u001b[0m\u001b[0;34m\u001b[0m\u001b[0;34m\u001b[0m\u001b[0m\n\u001b[0m",
      "\u001b[0;31mFileNotFoundError\u001b[0m: [Errno 2] No such file or directory: './Colegios'"
     ]
    }
   ],
   "source": [
    "import pandas as pd\n",
    "import numpy as np\n",
    "\n",
    "import os\n",
    "import glob\n",
    "os.chdir('./Colegios')"
   ]
  },
  {
   "cell_type": "code",
   "execution_count": 124,
   "id": "cbb28d0e-e584-4616-9e38-fdc70b0ad5fc",
   "metadata": {},
   "outputs": [],
   "source": [
    "all_filenames = [i for i in glob.glob('*.{}'.format('csv'))]\n",
    "combined_csv = pd.concat([pd.read_csv(f) for f in all_filenames ])\n",
    "combined_csv.to_csv(\"combined_csv.csv\", index=False)"
   ]
  },
  {
   "cell_type": "code",
   "execution_count": 126,
   "id": "e8d66b7e-434c-4aab-8af7-a2714ac1c170",
   "metadata": {},
   "outputs": [
    {
     "data": {
      "text/plain": [
       "8033"
      ]
     },
     "execution_count": 126,
     "metadata": {},
     "output_type": "execute_result"
    }
   ],
   "source": [
    "len(combined_csv)"
   ]
  },
  {
   "cell_type": "code",
   "execution_count": 128,
   "id": "6a27167e-b005-4699-bcce-fb8e7fc01f37",
   "metadata": {},
   "outputs": [
    {
     "data": {
      "text/plain": [
       "Unnamed: 0     8010\n",
       "Unnamed: 1     7775\n",
       "Unnamed: 2     7987\n",
       "Unnamed: 3     7987\n",
       "Unnamed: 4     7987\n",
       "Unnamed: 5     7932\n",
       "Unnamed: 6     7416\n",
       "Unnamed: 7     7774\n",
       "Unnamed: 8     6334\n",
       "Unnamed: 9     7987\n",
       "Unnamed: 10    7987\n",
       "Unnamed: 11    7987\n",
       "Unnamed: 12    7987\n",
       "Unnamed: 13    7987\n",
       "Unnamed: 14    7987\n",
       "Unnamed: 15    7987\n",
       "Unnamed: 16    7987\n",
       "dtype: int64"
      ]
     },
     "execution_count": 128,
     "metadata": {},
     "output_type": "execute_result"
    }
   ],
   "source": [
    "combined_csv.count()"
   ]
  },
  {
   "cell_type": "code",
   "execution_count": 129,
   "id": "79e64270-66d8-439c-9de4-66dd49b1beba",
   "metadata": {},
   "outputs": [
    {
     "data": {
      "text/plain": [
       "Unnamed: 0     object\n",
       "Unnamed: 1     object\n",
       "Unnamed: 2     object\n",
       "Unnamed: 3     object\n",
       "Unnamed: 4     object\n",
       "Unnamed: 5     object\n",
       "Unnamed: 6     object\n",
       "Unnamed: 7     object\n",
       "Unnamed: 8     object\n",
       "Unnamed: 9     object\n",
       "Unnamed: 10    object\n",
       "Unnamed: 11    object\n",
       "Unnamed: 12    object\n",
       "Unnamed: 13    object\n",
       "Unnamed: 14    object\n",
       "Unnamed: 15    object\n",
       "Unnamed: 16    object\n",
       "dtype: object"
      ]
     },
     "execution_count": 129,
     "metadata": {},
     "output_type": "execute_result"
    }
   ],
   "source": [
    "combined_csv.dtypes"
   ]
  },
  {
   "cell_type": "code",
   "execution_count": 123,
   "id": "75e0e0fe-a6b5-4b07-99fd-b2671940726d",
   "metadata": {},
   "outputs": [
    {
     "name": "stdout",
     "output_type": "stream",
     "text": [
      "8033\n"
     ]
    }
   ],
   "source": [
    "suma = 0\n",
    "for x in glob.glob('*.{}'.format('csv')):\n",
    "    file = pd.read_csv(x)\n",
    "    l = len(file)\n",
    "    suma = suma + l\n",
    "print(suma)"
   ]
  },
  {
   "cell_type": "code",
   "execution_count": null,
   "id": "180f3d32-4fb7-4327-9041-3cb213e041b0",
   "metadata": {},
   "outputs": [],
   "source": []
  },
  {
   "cell_type": "code",
   "execution_count": null,
   "id": "dd9127b3-dcda-4c1d-b017-a71b3a2e5d8d",
   "metadata": {},
   "outputs": [],
   "source": []
  },
  {
   "cell_type": "code",
   "execution_count": null,
   "id": "7aabeda4-f038-43b4-8186-5e002a308091",
   "metadata": {},
   "outputs": [],
   "source": []
  },
  {
   "cell_type": "code",
   "execution_count": 109,
   "id": "bed54539-ccc1-4af5-baad-8b539daedbad",
   "metadata": {},
   "outputs": [
    {
     "data": {
      "text/plain": [
       "23"
      ]
     },
     "execution_count": 109,
     "metadata": {},
     "output_type": "execute_result"
    }
   ],
   "source": [
    "#all_filenames = [i for i in glob.glob('*.{}'.format('csv'))]\n",
    "all_filenames = []\n",
    "for i in glob.glob('*.{}'.format('csv')):\n",
    "    f = open(i)\n",
    "    newDoc = open('temp/temp_'+i, 'w+')\n",
    "    for index, line in enumerate(f):\n",
    "        if index != 0:\n",
    "            newDoc.write(line)\n",
    "    file = pd.read_csv('temp/temp_'+i)\n",
    "    all_filenames.append(file)\n",
    "len(all_filenames)"
   ]
  },
  {
   "cell_type": "code",
   "execution_count": 110,
   "id": "f7146001-5ff2-49a2-91ce-f59be4873643",
   "metadata": {},
   "outputs": [],
   "source": [
    "combined_csv = None\n",
    "combined_csv = pd.concat([f for f in all_filenames ])\n",
    "combined_csv.to_csv( \"combined_csv.csv\", index=False)"
   ]
  },
  {
   "cell_type": "code",
   "execution_count": 113,
   "id": "fc8b155a-fd32-44ca-8211-b4afb27bda66",
   "metadata": {},
   "outputs": [
    {
     "data": {
      "text/plain": [
       "CODIGO             7559\n",
       "DISTRITO           7350\n",
       "DEPARTAMENTO       7559\n",
       "MUNICIPIO          7559\n",
       "ESTABLECIMIENTO    7559\n",
       "DIRECCION          7507\n",
       "TELEFONO           7021\n",
       "SUPERVISOR         7349\n",
       "DIRECTOR           5969\n",
       "NIVEL              7559\n",
       "SECTOR             7559\n",
       "AREA               7559\n",
       "STATUS             7559\n",
       "MODALIDAD          7559\n",
       "JORNADA            7559\n",
       "PLAN               7559\n",
       "DEPARTAMENTAL      7559\n",
       "dtype: int64"
      ]
     },
     "execution_count": 113,
     "metadata": {},
     "output_type": "execute_result"
    }
   ],
   "source": [
    "len(combined_csv)\n",
    "combined_csv.count()"
   ]
  },
  {
   "cell_type": "code",
   "execution_count": 112,
   "id": "ad56b518-f1c5-48ea-b135-2a506731db88",
   "metadata": {},
   "outputs": [
    {
     "data": {
      "text/html": [
       "<div>\n",
       "<style scoped>\n",
       "    .dataframe tbody tr th:only-of-type {\n",
       "        vertical-align: middle;\n",
       "    }\n",
       "\n",
       "    .dataframe tbody tr th {\n",
       "        vertical-align: top;\n",
       "    }\n",
       "\n",
       "    .dataframe thead th {\n",
       "        text-align: right;\n",
       "    }\n",
       "</style>\n",
       "<table border=\"1\" class=\"dataframe\">\n",
       "  <thead>\n",
       "    <tr style=\"text-align: right;\">\n",
       "      <th></th>\n",
       "      <th>CODIGO</th>\n",
       "      <th>DISTRITO</th>\n",
       "      <th>DEPARTAMENTO</th>\n",
       "      <th>MUNICIPIO</th>\n",
       "      <th>ESTABLECIMIENTO</th>\n",
       "      <th>DIRECCION</th>\n",
       "      <th>TELEFONO</th>\n",
       "      <th>SUPERVISOR</th>\n",
       "      <th>DIRECTOR</th>\n",
       "      <th>NIVEL</th>\n",
       "      <th>SECTOR</th>\n",
       "      <th>AREA</th>\n",
       "      <th>STATUS</th>\n",
       "      <th>MODALIDAD</th>\n",
       "      <th>JORNADA</th>\n",
       "      <th>PLAN</th>\n",
       "      <th>DEPARTAMENTAL</th>\n",
       "    </tr>\n",
       "  </thead>\n",
       "  <tbody>\n",
       "    <tr>\n",
       "      <th>0</th>\n",
       "      <td>09-01-0040-46</td>\n",
       "      <td>09-041</td>\n",
       "      <td>QUETZALTENANGO</td>\n",
       "      <td>QUETZALTENANGO</td>\n",
       "      <td>COLELGIO EVANGELICO \"LA PATRIA\"</td>\n",
       "      <td>19 AVENIDA 1-28 ZONA 3</td>\n",
       "      <td>NaN</td>\n",
       "      <td>WILSON RANFERI SIGUENZA LOPEZ</td>\n",
       "      <td>----</td>\n",
       "      <td>DIVERSIFICADO</td>\n",
       "      <td>PRIVADO</td>\n",
       "      <td>URBANA</td>\n",
       "      <td>CERRADA TEMPORALMENTE</td>\n",
       "      <td>MONOLINGUE</td>\n",
       "      <td>DOBLE</td>\n",
       "      <td>DIARIO(REGULAR)</td>\n",
       "      <td>QUETZALTENANGO</td>\n",
       "    </tr>\n",
       "    <tr>\n",
       "      <th>1</th>\n",
       "      <td>09-01-0098-46</td>\n",
       "      <td>09-006</td>\n",
       "      <td>QUETZALTENANGO</td>\n",
       "      <td>QUETZALTENANGO</td>\n",
       "      <td>COLEGIO PRIVADO MIXTO \"SUIZO QUETZALTENANGO\"</td>\n",
       "      <td>1RA CALLE 43-50 ZONA 8</td>\n",
       "      <td>79267367</td>\n",
       "      <td>PEDRO GERсNIMO SARAT CHAJ</td>\n",
       "      <td>MIRNA LETICIA CIFUENTES GODINEZ DE CIFUENTES</td>\n",
       "      <td>DIVERSIFICADO</td>\n",
       "      <td>PRIVADO</td>\n",
       "      <td>URBANA</td>\n",
       "      <td>ABIERTA</td>\n",
       "      <td>MONOLINGUE</td>\n",
       "      <td>MATUTINA</td>\n",
       "      <td>DIARIO(REGULAR)</td>\n",
       "      <td>QUETZALTENANGO</td>\n",
       "    </tr>\n",
       "    <tr>\n",
       "      <th>2</th>\n",
       "      <td>09-01-0125-46</td>\n",
       "      <td>09-005</td>\n",
       "      <td>QUETZALTENANGO</td>\n",
       "      <td>QUETZALTENANGO</td>\n",
       "      <td>INSTITUTO NACIONAL DE BACHILLERATO POR MADUREZ...</td>\n",
       "      <td>4A. CALLE 25-20, ZONA 3</td>\n",
       "      <td>41514439</td>\n",
       "      <td>JUAN CARLOS RONQUILLO DE LEON</td>\n",
       "      <td>NaN</td>\n",
       "      <td>DIVERSIFICADO</td>\n",
       "      <td>OFICIAL</td>\n",
       "      <td>URBANA</td>\n",
       "      <td>ABIERTA</td>\n",
       "      <td>MONOLINGUE</td>\n",
       "      <td>NOCTURNA</td>\n",
       "      <td>DIARIO(REGULAR)</td>\n",
       "      <td>QUETZALTENANGO</td>\n",
       "    </tr>\n",
       "    <tr>\n",
       "      <th>3</th>\n",
       "      <td>09-01-0126-46</td>\n",
       "      <td>09-005</td>\n",
       "      <td>QUETZALTENANGO</td>\n",
       "      <td>QUETZALTENANGO</td>\n",
       "      <td>ESCUELA NACIONAL DE CIENCIAS COMERCIALES 'PROF...</td>\n",
       "      <td>5A CALLE 12-60 ZONA 3</td>\n",
       "      <td>50171669</td>\n",
       "      <td>JUAN CARLOS RONQUILLO DE LEON</td>\n",
       "      <td>NaN</td>\n",
       "      <td>DIVERSIFICADO</td>\n",
       "      <td>OFICIAL</td>\n",
       "      <td>URBANA</td>\n",
       "      <td>ABIERTA</td>\n",
       "      <td>MONOLINGUE</td>\n",
       "      <td>NOCTURNA</td>\n",
       "      <td>DIARIO(REGULAR)</td>\n",
       "      <td>QUETZALTENANGO</td>\n",
       "    </tr>\n",
       "    <tr>\n",
       "      <th>4</th>\n",
       "      <td>09-01-0131-46</td>\n",
       "      <td>09-005</td>\n",
       "      <td>QUETZALTENANGO</td>\n",
       "      <td>QUETZALTENANGO</td>\n",
       "      <td>INSTITUTO NORMAL PARA VARONES DE OCCIDENTE I.N...</td>\n",
       "      <td>7MA. CALLE 29-25 ZONA 3</td>\n",
       "      <td>77611583</td>\n",
       "      <td>JUAN CARLOS RONQUILLO DE LEON</td>\n",
       "      <td>FRANCISCO MIGUEL TIRADO HUINAC</td>\n",
       "      <td>DIVERSIFICADO</td>\n",
       "      <td>OFICIAL</td>\n",
       "      <td>URBANA</td>\n",
       "      <td>ABIERTA</td>\n",
       "      <td>MONOLINGUE</td>\n",
       "      <td>VESPERTINA</td>\n",
       "      <td>DIARIO(REGULAR)</td>\n",
       "      <td>QUETZALTENANGO</td>\n",
       "    </tr>\n",
       "  </tbody>\n",
       "</table>\n",
       "</div>"
      ],
      "text/plain": [
       "          CODIGO DISTRITO    DEPARTAMENTO       MUNICIPIO  \\\n",
       "0  09-01-0040-46   09-041  QUETZALTENANGO  QUETZALTENANGO   \n",
       "1  09-01-0098-46   09-006  QUETZALTENANGO  QUETZALTENANGO   \n",
       "2  09-01-0125-46   09-005  QUETZALTENANGO  QUETZALTENANGO   \n",
       "3  09-01-0126-46   09-005  QUETZALTENANGO  QUETZALTENANGO   \n",
       "4  09-01-0131-46   09-005  QUETZALTENANGO  QUETZALTENANGO   \n",
       "\n",
       "                                     ESTABLECIMIENTO                DIRECCION  \\\n",
       "0                    COLELGIO EVANGELICO \"LA PATRIA\"   19 AVENIDA 1-28 ZONA 3   \n",
       "1       COLEGIO PRIVADO MIXTO \"SUIZO QUETZALTENANGO\"   1RA CALLE 43-50 ZONA 8   \n",
       "2  INSTITUTO NACIONAL DE BACHILLERATO POR MADUREZ...  4A. CALLE 25-20, ZONA 3   \n",
       "3  ESCUELA NACIONAL DE CIENCIAS COMERCIALES 'PROF...    5A CALLE 12-60 ZONA 3   \n",
       "4  INSTITUTO NORMAL PARA VARONES DE OCCIDENTE I.N...  7MA. CALLE 29-25 ZONA 3   \n",
       "\n",
       "   TELEFONO                     SUPERVISOR  \\\n",
       "0       NaN  WILSON RANFERI SIGUENZA LOPEZ   \n",
       "1  79267367      PEDRO GERсNIMO SARAT CHAJ   \n",
       "2  41514439  JUAN CARLOS RONQUILLO DE LEON   \n",
       "3  50171669  JUAN CARLOS RONQUILLO DE LEON   \n",
       "4  77611583  JUAN CARLOS RONQUILLO DE LEON   \n",
       "\n",
       "                                       DIRECTOR          NIVEL   SECTOR  \\\n",
       "0                                          ----  DIVERSIFICADO  PRIVADO   \n",
       "1  MIRNA LETICIA CIFUENTES GODINEZ DE CIFUENTES  DIVERSIFICADO  PRIVADO   \n",
       "2                                           NaN  DIVERSIFICADO  OFICIAL   \n",
       "3                                           NaN  DIVERSIFICADO  OFICIAL   \n",
       "4                FRANCISCO MIGUEL TIRADO HUINAC  DIVERSIFICADO  OFICIAL   \n",
       "\n",
       "     AREA                 STATUS   MODALIDAD     JORNADA             PLAN  \\\n",
       "0  URBANA  CERRADA TEMPORALMENTE  MONOLINGUE       DOBLE  DIARIO(REGULAR)   \n",
       "1  URBANA                ABIERTA  MONOLINGUE    MATUTINA  DIARIO(REGULAR)   \n",
       "2  URBANA                ABIERTA  MONOLINGUE    NOCTURNA  DIARIO(REGULAR)   \n",
       "3  URBANA                ABIERTA  MONOLINGUE    NOCTURNA  DIARIO(REGULAR)   \n",
       "4  URBANA                ABIERTA  MONOLINGUE  VESPERTINA  DIARIO(REGULAR)   \n",
       "\n",
       "    DEPARTAMENTAL  \n",
       "0  QUETZALTENANGO  \n",
       "1  QUETZALTENANGO  \n",
       "2  QUETZALTENANGO  \n",
       "3  QUETZALTENANGO  \n",
       "4  QUETZALTENANGO  "
      ]
     },
     "execution_count": 112,
     "metadata": {},
     "output_type": "execute_result"
    }
   ],
   "source": [
    "combined_csv.head()"
   ]
  },
  {
   "cell_type": "code",
   "execution_count": 115,
   "id": "a250552b-b420-49cd-87a7-7304c1477f34",
   "metadata": {},
   "outputs": [
    {
     "data": {
      "text/plain": [
       "84"
      ]
     },
     "execution_count": 115,
     "metadata": {},
     "output_type": "execute_result"
    }
   ],
   "source": []
  },
  {
   "cell_type": "code",
   "execution_count": null,
   "id": "ad1d3b45-13f5-400e-bee4-c60a4ccb41c7",
   "metadata": {},
   "outputs": [],
   "source": []
  }
 ],
 "metadata": {
  "kernelspec": {
   "display_name": "Python 3 (ipykernel)",
   "language": "python",
   "name": "python3"
  },
  "language_info": {
   "codemirror_mode": {
    "name": "ipython",
    "version": 3
   },
   "file_extension": ".py",
   "mimetype": "text/x-python",
   "name": "python",
   "nbconvert_exporter": "python",
   "pygments_lexer": "ipython3",
   "version": "3.9.6"
  }
 },
 "nbformat": 4,
 "nbformat_minor": 5
}
