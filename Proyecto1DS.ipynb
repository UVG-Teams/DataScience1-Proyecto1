{
 "cells": [
  {
   "cell_type": "code",
   "execution_count": 1,
   "id": "97ef2d0f-6f92-42ee-9e2e-82c3628bc557",
   "metadata": {},
   "outputs": [],
   "source": [
    "import pandas as pd\n",
    "import numpy as np\n",
    "\n",
    "import os\n",
    "import glob\n",
    "os.chdir('./Colegios')"
   ]
  },
  {
   "cell_type": "code",
   "execution_count": 2,
   "id": "bed54539-ccc1-4af5-baad-8b539daedbad",
   "metadata": {},
   "outputs": [
    {
     "data": {
      "text/plain": [
       "23"
      ]
     },
     "execution_count": 2,
     "metadata": {},
     "output_type": "execute_result"
    }
   ],
   "source": [
    "#all_filenames = [i for i in glob.glob('*.{}'.format('csv'))]\n",
    "all_filenames = []\n",
    "for i in glob.glob('*.{}'.format('csv')):\n",
    "    f = open(i)\n",
    "    newDoc = open('temp/temp_'+i, 'w+')\n",
    "    for index, line in enumerate(f):\n",
    "        if index != 0:\n",
    "            newDoc.write(line)\n",
    "    file = pd.read_csv('temp/temp_'+i)\n",
    "    all_filenames.append(file)\n",
    "len(all_filenames)"
   ]
  },
  {
   "cell_type": "code",
   "execution_count": 3,
   "id": "f7146001-5ff2-49a2-91ce-f59be4873643",
   "metadata": {},
   "outputs": [],
   "source": [
    "combined_csv = None\n",
    "combined_csv = pd.concat([f for f in all_filenames ])\n",
    "combined_csv.to_csv( \"combined_csv.csv\", index=False)"
   ]
  },
  {
   "cell_type": "code",
   "execution_count": 4,
   "id": "a250552b-b420-49cd-87a7-7304c1477f34",
   "metadata": {},
   "outputs": [
    {
     "data": {
      "text/html": [
       "<div>\n",
       "<style scoped>\n",
       "    .dataframe tbody tr th:only-of-type {\n",
       "        vertical-align: middle;\n",
       "    }\n",
       "\n",
       "    .dataframe tbody tr th {\n",
       "        vertical-align: top;\n",
       "    }\n",
       "\n",
       "    .dataframe thead th {\n",
       "        text-align: right;\n",
       "    }\n",
       "</style>\n",
       "<table border=\"1\" class=\"dataframe\">\n",
       "  <thead>\n",
       "    <tr style=\"text-align: right;\">\n",
       "      <th></th>\n",
       "      <th>CODIGO</th>\n",
       "      <th>DISTRITO</th>\n",
       "      <th>DEPARTAMENTO</th>\n",
       "      <th>MUNICIPIO</th>\n",
       "      <th>ESTABLECIMIENTO</th>\n",
       "      <th>DIRECCION</th>\n",
       "      <th>TELEFONO</th>\n",
       "      <th>SUPERVISOR</th>\n",
       "      <th>DIRECTOR</th>\n",
       "      <th>NIVEL</th>\n",
       "      <th>SECTOR</th>\n",
       "      <th>AREA</th>\n",
       "      <th>STATUS</th>\n",
       "      <th>MODALIDAD</th>\n",
       "      <th>JORNADA</th>\n",
       "      <th>PLAN</th>\n",
       "      <th>DEPARTAMENTAL</th>\n",
       "    </tr>\n",
       "  </thead>\n",
       "  <tbody>\n",
       "    <tr>\n",
       "      <th>0</th>\n",
       "      <td>09-01-0040-46</td>\n",
       "      <td>09-041</td>\n",
       "      <td>QUETZALTENANGO</td>\n",
       "      <td>QUETZALTENANGO</td>\n",
       "      <td>COLELGIO EVANGELICO \"LA PATRIA\"</td>\n",
       "      <td>19 AVENIDA 1-28 ZONA 3</td>\n",
       "      <td>NaN</td>\n",
       "      <td>WILSON RANFERI SIGUENZA LOPEZ</td>\n",
       "      <td>----</td>\n",
       "      <td>DIVERSIFICADO</td>\n",
       "      <td>PRIVADO</td>\n",
       "      <td>URBANA</td>\n",
       "      <td>CERRADA TEMPORALMENTE</td>\n",
       "      <td>MONOLINGUE</td>\n",
       "      <td>DOBLE</td>\n",
       "      <td>DIARIO(REGULAR)</td>\n",
       "      <td>QUETZALTENANGO</td>\n",
       "    </tr>\n",
       "    <tr>\n",
       "      <th>1</th>\n",
       "      <td>09-01-0098-46</td>\n",
       "      <td>09-006</td>\n",
       "      <td>QUETZALTENANGO</td>\n",
       "      <td>QUETZALTENANGO</td>\n",
       "      <td>COLEGIO PRIVADO MIXTO \"SUIZO QUETZALTENANGO\"</td>\n",
       "      <td>1RA CALLE 43-50 ZONA 8</td>\n",
       "      <td>79267367</td>\n",
       "      <td>PEDRO GERсNIMO SARAT CHAJ</td>\n",
       "      <td>MIRNA LETICIA CIFUENTES GODINEZ DE CIFUENTES</td>\n",
       "      <td>DIVERSIFICADO</td>\n",
       "      <td>PRIVADO</td>\n",
       "      <td>URBANA</td>\n",
       "      <td>ABIERTA</td>\n",
       "      <td>MONOLINGUE</td>\n",
       "      <td>MATUTINA</td>\n",
       "      <td>DIARIO(REGULAR)</td>\n",
       "      <td>QUETZALTENANGO</td>\n",
       "    </tr>\n",
       "    <tr>\n",
       "      <th>2</th>\n",
       "      <td>09-01-0125-46</td>\n",
       "      <td>09-005</td>\n",
       "      <td>QUETZALTENANGO</td>\n",
       "      <td>QUETZALTENANGO</td>\n",
       "      <td>INSTITUTO NACIONAL DE BACHILLERATO POR MADUREZ...</td>\n",
       "      <td>4A. CALLE 25-20, ZONA 3</td>\n",
       "      <td>41514439</td>\n",
       "      <td>JUAN CARLOS RONQUILLO DE LEON</td>\n",
       "      <td>NaN</td>\n",
       "      <td>DIVERSIFICADO</td>\n",
       "      <td>OFICIAL</td>\n",
       "      <td>URBANA</td>\n",
       "      <td>ABIERTA</td>\n",
       "      <td>MONOLINGUE</td>\n",
       "      <td>NOCTURNA</td>\n",
       "      <td>DIARIO(REGULAR)</td>\n",
       "      <td>QUETZALTENANGO</td>\n",
       "    </tr>\n",
       "    <tr>\n",
       "      <th>3</th>\n",
       "      <td>09-01-0126-46</td>\n",
       "      <td>09-005</td>\n",
       "      <td>QUETZALTENANGO</td>\n",
       "      <td>QUETZALTENANGO</td>\n",
       "      <td>ESCUELA NACIONAL DE CIENCIAS COMERCIALES 'PROF...</td>\n",
       "      <td>5A CALLE 12-60 ZONA 3</td>\n",
       "      <td>50171669</td>\n",
       "      <td>JUAN CARLOS RONQUILLO DE LEON</td>\n",
       "      <td>NaN</td>\n",
       "      <td>DIVERSIFICADO</td>\n",
       "      <td>OFICIAL</td>\n",
       "      <td>URBANA</td>\n",
       "      <td>ABIERTA</td>\n",
       "      <td>MONOLINGUE</td>\n",
       "      <td>NOCTURNA</td>\n",
       "      <td>DIARIO(REGULAR)</td>\n",
       "      <td>QUETZALTENANGO</td>\n",
       "    </tr>\n",
       "    <tr>\n",
       "      <th>4</th>\n",
       "      <td>09-01-0131-46</td>\n",
       "      <td>09-005</td>\n",
       "      <td>QUETZALTENANGO</td>\n",
       "      <td>QUETZALTENANGO</td>\n",
       "      <td>INSTITUTO NORMAL PARA VARONES DE OCCIDENTE I.N...</td>\n",
       "      <td>7MA. CALLE 29-25 ZONA 3</td>\n",
       "      <td>77611583</td>\n",
       "      <td>JUAN CARLOS RONQUILLO DE LEON</td>\n",
       "      <td>FRANCISCO MIGUEL TIRADO HUINAC</td>\n",
       "      <td>DIVERSIFICADO</td>\n",
       "      <td>OFICIAL</td>\n",
       "      <td>URBANA</td>\n",
       "      <td>ABIERTA</td>\n",
       "      <td>MONOLINGUE</td>\n",
       "      <td>VESPERTINA</td>\n",
       "      <td>DIARIO(REGULAR)</td>\n",
       "      <td>QUETZALTENANGO</td>\n",
       "    </tr>\n",
       "  </tbody>\n",
       "</table>\n",
       "</div>"
      ],
      "text/plain": [
       "          CODIGO DISTRITO    DEPARTAMENTO       MUNICIPIO  \\\n",
       "0  09-01-0040-46   09-041  QUETZALTENANGO  QUETZALTENANGO   \n",
       "1  09-01-0098-46   09-006  QUETZALTENANGO  QUETZALTENANGO   \n",
       "2  09-01-0125-46   09-005  QUETZALTENANGO  QUETZALTENANGO   \n",
       "3  09-01-0126-46   09-005  QUETZALTENANGO  QUETZALTENANGO   \n",
       "4  09-01-0131-46   09-005  QUETZALTENANGO  QUETZALTENANGO   \n",
       "\n",
       "                                     ESTABLECIMIENTO                DIRECCION  \\\n",
       "0                    COLELGIO EVANGELICO \"LA PATRIA\"   19 AVENIDA 1-28 ZONA 3   \n",
       "1       COLEGIO PRIVADO MIXTO \"SUIZO QUETZALTENANGO\"   1RA CALLE 43-50 ZONA 8   \n",
       "2  INSTITUTO NACIONAL DE BACHILLERATO POR MADUREZ...  4A. CALLE 25-20, ZONA 3   \n",
       "3  ESCUELA NACIONAL DE CIENCIAS COMERCIALES 'PROF...    5A CALLE 12-60 ZONA 3   \n",
       "4  INSTITUTO NORMAL PARA VARONES DE OCCIDENTE I.N...  7MA. CALLE 29-25 ZONA 3   \n",
       "\n",
       "   TELEFONO                     SUPERVISOR  \\\n",
       "0       NaN  WILSON RANFERI SIGUENZA LOPEZ   \n",
       "1  79267367      PEDRO GERсNIMO SARAT CHAJ   \n",
       "2  41514439  JUAN CARLOS RONQUILLO DE LEON   \n",
       "3  50171669  JUAN CARLOS RONQUILLO DE LEON   \n",
       "4  77611583  JUAN CARLOS RONQUILLO DE LEON   \n",
       "\n",
       "                                       DIRECTOR          NIVEL   SECTOR  \\\n",
       "0                                          ----  DIVERSIFICADO  PRIVADO   \n",
       "1  MIRNA LETICIA CIFUENTES GODINEZ DE CIFUENTES  DIVERSIFICADO  PRIVADO   \n",
       "2                                           NaN  DIVERSIFICADO  OFICIAL   \n",
       "3                                           NaN  DIVERSIFICADO  OFICIAL   \n",
       "4                FRANCISCO MIGUEL TIRADO HUINAC  DIVERSIFICADO  OFICIAL   \n",
       "\n",
       "     AREA                 STATUS   MODALIDAD     JORNADA             PLAN  \\\n",
       "0  URBANA  CERRADA TEMPORALMENTE  MONOLINGUE       DOBLE  DIARIO(REGULAR)   \n",
       "1  URBANA                ABIERTA  MONOLINGUE    MATUTINA  DIARIO(REGULAR)   \n",
       "2  URBANA                ABIERTA  MONOLINGUE    NOCTURNA  DIARIO(REGULAR)   \n",
       "3  URBANA                ABIERTA  MONOLINGUE    NOCTURNA  DIARIO(REGULAR)   \n",
       "4  URBANA                ABIERTA  MONOLINGUE  VESPERTINA  DIARIO(REGULAR)   \n",
       "\n",
       "    DEPARTAMENTAL  \n",
       "0  QUETZALTENANGO  \n",
       "1  QUETZALTENANGO  \n",
       "2  QUETZALTENANGO  \n",
       "3  QUETZALTENANGO  \n",
       "4  QUETZALTENANGO  "
      ]
     },
     "execution_count": 4,
     "metadata": {},
     "output_type": "execute_result"
    }
   ],
   "source": [
    "combined_csv.head()"
   ]
  },
  {
   "cell_type": "code",
   "execution_count": 5,
   "id": "fc8b155a-fd32-44ca-8211-b4afb27bda66",
   "metadata": {},
   "outputs": [
    {
     "data": {
      "text/plain": [
       "CODIGO             7617\n",
       "DISTRITO           7408\n",
       "DEPARTAMENTO       7617\n",
       "MUNICIPIO          7617\n",
       "ESTABLECIMIENTO    7617\n",
       "DIRECCION          7564\n",
       "TELEFONO           7066\n",
       "SUPERVISOR         7407\n",
       "DIRECTOR           6006\n",
       "NIVEL              7617\n",
       "SECTOR             7617\n",
       "AREA               7617\n",
       "STATUS             7617\n",
       "MODALIDAD          7617\n",
       "JORNADA            7617\n",
       "PLAN               7617\n",
       "DEPARTAMENTAL      7617\n",
       "dtype: int64"
      ]
     },
     "execution_count": 5,
     "metadata": {},
     "output_type": "execute_result"
    }
   ],
   "source": [
    "combined_csv.count()"
   ]
  },
  {
   "cell_type": "code",
   "execution_count": 6,
   "id": "shared-virginia",
   "metadata": {},
   "outputs": [
    {
     "data": {
      "text/plain": [
       "CODIGO             object\n",
       "DISTRITO           object\n",
       "DEPARTAMENTO       object\n",
       "MUNICIPIO          object\n",
       "ESTABLECIMIENTO    object\n",
       "DIRECCION          object\n",
       "TELEFONO           object\n",
       "SUPERVISOR         object\n",
       "DIRECTOR           object\n",
       "NIVEL              object\n",
       "SECTOR             object\n",
       "AREA               object\n",
       "STATUS             object\n",
       "MODALIDAD          object\n",
       "JORNADA            object\n",
       "PLAN               object\n",
       "DEPARTAMENTAL      object\n",
       "dtype: object"
      ]
     },
     "execution_count": 6,
     "metadata": {},
     "output_type": "execute_result"
    }
   ],
   "source": [
    "combined_csv.dtypes"
   ]
  },
  {
   "cell_type": "markdown",
   "id": "71637828-51ef-49f6-b8e5-47de6e27f545",
   "metadata": {},
   "source": [
    "# Duplicados"
   ]
  },
  {
   "cell_type": "code",
   "execution_count": 7,
   "id": "a6e20c3f-e751-4878-af5c-e9dedeab4322",
   "metadata": {},
   "outputs": [
    {
     "data": {
      "text/plain": [
       "0"
      ]
     },
     "execution_count": 7,
     "metadata": {},
     "output_type": "execute_result"
    }
   ],
   "source": [
    "combined_csv.duplicated().sum()"
   ]
  },
  {
   "cell_type": "code",
   "execution_count": 8,
   "id": "ab366d0a-ce64-4934-87aa-0b60e96dc56a",
   "metadata": {},
   "outputs": [
    {
     "data": {
      "text/plain": [
       "3024"
      ]
     },
     "execution_count": 8,
     "metadata": {},
     "output_type": "execute_result"
    }
   ],
   "source": [
    "combined_csv.ESTABLECIMIENTO.duplicated().sum()"
   ]
  },
  {
   "cell_type": "code",
   "execution_count": 9,
   "id": "b8b2bc68-014e-43af-9b4f-a3e7e1ab66b3",
   "metadata": {},
   "outputs": [
    {
     "data": {
      "text/plain": [
       "['INSTITUTO NORMAL PARA SEяORITAS DE OCCIDENTE',\n",
       " 'INSTITUTO PRIVADO MIXTO DE EDUCACION DIVERSIFICADA COLEGIO CORAZON DE JESUS',\n",
       " \"COLEGIO MIXTO BILINGUE 'SAN PABLO'\",\n",
       " 'COLEGIO EVANGELICO LA PATRIA',\n",
       " 'INSTITUTO TECNOLсGICO PRIVADO DE OCCIDENTE',\n",
       " 'INSTITUTO PRIVADO MIXTO DE OCCIDENTE',\n",
       " 'INSTITUTO PRIVADO MIXTO DE EDUCACION DIVERSIFICADA COLEGIO CORAZON DE JESUS',\n",
       " 'COLEGIO PRIVADO MIXTO \"LICEO EDUCACIONAL LIVERMORE\"',\n",
       " 'COLEGIO MIXTO PRIVADO SAN JOSи',\n",
       " 'COLEGIO PRIVADO MIXTO \"LICEO EDUCACIONAL LIVERMORE\"']"
      ]
     },
     "execution_count": 9,
     "metadata": {},
     "output_type": "execute_result"
    }
   ],
   "source": [
    "duplicates = combined_csv[combined_csv['ESTABLECIMIENTO'].duplicated(keep=False)]['ESTABLECIMIENTO'].tolist()\n",
    "duplicates[:10]"
   ]
  },
  {
   "cell_type": "code",
   "execution_count": 10,
   "id": "46163886-e378-4c62-8ec3-34bf590b8788",
   "metadata": {},
   "outputs": [],
   "source": [
    "set_duplicates = set(duplicates)\n",
    "for r in set_duplicates:\n",
    "    dup = combined_csv[combined_csv['ESTABLECIMIENTO'] == r]\n",
    "#     print(combined_csv.loc[dup.iloc[1,:].name, 'ESTABLECIMIENTO'])\n",
    "#     print(combined_csv.loc[dup.iloc[1,:].name]['ESTABLECIMIENTO'])\n",
    "#     combined_csv.loc[dup.iloc[1,:].name, 'ESTABLECIMIENTO'] = combined_csv.loc[dup.iloc[1,:].name]['ESTABLECIMIENTO'] + 'z'"
   ]
  },
  {
   "cell_type": "code",
   "execution_count": 11,
   "id": "9bd7ae04-15bf-4a03-bd6b-d0d7dbf4f1b0",
   "metadata": {},
   "outputs": [
    {
     "data": {
      "text/html": [
       "<div>\n",
       "<style scoped>\n",
       "    .dataframe tbody tr th:only-of-type {\n",
       "        vertical-align: middle;\n",
       "    }\n",
       "\n",
       "    .dataframe tbody tr th {\n",
       "        vertical-align: top;\n",
       "    }\n",
       "\n",
       "    .dataframe thead th {\n",
       "        text-align: right;\n",
       "    }\n",
       "</style>\n",
       "<table border=\"1\" class=\"dataframe\">\n",
       "  <thead>\n",
       "    <tr style=\"text-align: right;\">\n",
       "      <th></th>\n",
       "      <th>CODIGO</th>\n",
       "      <th>DISTRITO</th>\n",
       "      <th>DEPARTAMENTO</th>\n",
       "      <th>MUNICIPIO</th>\n",
       "      <th>ESTABLECIMIENTO</th>\n",
       "      <th>DIRECCION</th>\n",
       "      <th>TELEFONO</th>\n",
       "      <th>SUPERVISOR</th>\n",
       "      <th>DIRECTOR</th>\n",
       "      <th>NIVEL</th>\n",
       "      <th>SECTOR</th>\n",
       "      <th>AREA</th>\n",
       "      <th>STATUS</th>\n",
       "      <th>MODALIDAD</th>\n",
       "      <th>JORNADA</th>\n",
       "      <th>PLAN</th>\n",
       "      <th>DEPARTAMENTAL</th>\n",
       "    </tr>\n",
       "  </thead>\n",
       "  <tbody>\n",
       "    <tr>\n",
       "      <th>19</th>\n",
       "      <td>09-01-0150-46</td>\n",
       "      <td>09-001</td>\n",
       "      <td>QUETZALTENANGO</td>\n",
       "      <td>QUETZALTENANGO</td>\n",
       "      <td>INSTITUTO PRIVADO MIXTO DE OCCIDENTE</td>\n",
       "      <td>16AV. 2-17 ZONA 1</td>\n",
       "      <td>77676172</td>\n",
       "      <td>WILFRIDO EDWIN RODAS</td>\n",
       "      <td>CUPERTINO ARIEN GALICIA MиRIDA</td>\n",
       "      <td>DIVERSIFICADO</td>\n",
       "      <td>PRIVADO</td>\n",
       "      <td>URBANA</td>\n",
       "      <td>CERRADA TEMPORALMENTE</td>\n",
       "      <td>MONOLINGUE</td>\n",
       "      <td>MATUTINA</td>\n",
       "      <td>FIN DE SEMANA</td>\n",
       "      <td>QUETZALTENANGO</td>\n",
       "    </tr>\n",
       "    <tr>\n",
       "      <th>209</th>\n",
       "      <td>09-01-4072-46</td>\n",
       "      <td>09-001</td>\n",
       "      <td>QUETZALTENANGO</td>\n",
       "      <td>QUETZALTENANGO</td>\n",
       "      <td>INSTITUTO PRIVADO MIXTO DE OCCIDENTE</td>\n",
       "      <td>16 AVENIDA 2-17 ZONA 1</td>\n",
       "      <td>59136484</td>\n",
       "      <td>WILFRIDO EDWIN RODAS</td>\n",
       "      <td>NaN</td>\n",
       "      <td>DIVERSIFICADO</td>\n",
       "      <td>PRIVADO</td>\n",
       "      <td>URBANA</td>\n",
       "      <td>CERRADA TEMPORALMENTE</td>\n",
       "      <td>MONOLINGUE</td>\n",
       "      <td>DOBLE</td>\n",
       "      <td>FIN DE SEMANA</td>\n",
       "      <td>QUETZALTENANGO</td>\n",
       "    </tr>\n",
       "  </tbody>\n",
       "</table>\n",
       "</div>"
      ],
      "text/plain": [
       "            CODIGO DISTRITO    DEPARTAMENTO       MUNICIPIO  \\\n",
       "19   09-01-0150-46   09-001  QUETZALTENANGO  QUETZALTENANGO   \n",
       "209  09-01-4072-46   09-001  QUETZALTENANGO  QUETZALTENANGO   \n",
       "\n",
       "                          ESTABLECIMIENTO               DIRECCION  TELEFONO  \\\n",
       "19   INSTITUTO PRIVADO MIXTO DE OCCIDENTE       16AV. 2-17 ZONA 1  77676172   \n",
       "209  INSTITUTO PRIVADO MIXTO DE OCCIDENTE  16 AVENIDA 2-17 ZONA 1  59136484   \n",
       "\n",
       "               SUPERVISOR                        DIRECTOR          NIVEL  \\\n",
       "19   WILFRIDO EDWIN RODAS  CUPERTINO ARIEN GALICIA MиRIDA  DIVERSIFICADO   \n",
       "209  WILFRIDO EDWIN RODAS                             NaN  DIVERSIFICADO   \n",
       "\n",
       "      SECTOR    AREA                 STATUS   MODALIDAD   JORNADA  \\\n",
       "19   PRIVADO  URBANA  CERRADA TEMPORALMENTE  MONOLINGUE  MATUTINA   \n",
       "209  PRIVADO  URBANA  CERRADA TEMPORALMENTE  MONOLINGUE     DOBLE   \n",
       "\n",
       "              PLAN   DEPARTAMENTAL  \n",
       "19   FIN DE SEMANA  QUETZALTENANGO  \n",
       "209  FIN DE SEMANA  QUETZALTENANGO  "
      ]
     },
     "execution_count": 11,
     "metadata": {},
     "output_type": "execute_result"
    }
   ],
   "source": [
    "combined_csv[combined_csv['ESTABLECIMIENTO'] =='INSTITUTO PRIVADO MIXTO DE OCCIDENTE']"
   ]
  },
  {
   "cell_type": "markdown",
   "id": "proud-animation",
   "metadata": {},
   "source": [
    "# Valores nulos"
   ]
  },
  {
   "cell_type": "code",
   "execution_count": 12,
   "id": "58eaab67-9a27-4572-b011-6218e2e54a94",
   "metadata": {},
   "outputs": [
    {
     "data": {
      "text/plain": [
       "CODIGO                0\n",
       "DISTRITO            209\n",
       "DEPARTAMENTO          0\n",
       "MUNICIPIO             0\n",
       "ESTABLECIMIENTO       0\n",
       "DIRECCION            53\n",
       "TELEFONO            551\n",
       "SUPERVISOR          210\n",
       "DIRECTOR           1611\n",
       "NIVEL                 0\n",
       "SECTOR                0\n",
       "AREA                  0\n",
       "STATUS                0\n",
       "MODALIDAD             0\n",
       "JORNADA               0\n",
       "PLAN                  0\n",
       "DEPARTAMENTAL         0\n",
       "dtype: int64"
      ]
     },
     "execution_count": 12,
     "metadata": {},
     "output_type": "execute_result"
    }
   ],
   "source": [
    "combined_csv.isnull().sum()"
   ]
  },
  {
   "cell_type": "code",
   "execution_count": 13,
   "id": "confident-blood",
   "metadata": {},
   "outputs": [],
   "source": [
    "combined_csv.DISTRITO = combined_csv.DISTRITO.fillna('00-000')"
   ]
  },
  {
   "cell_type": "code",
   "execution_count": 14,
   "id": "hydraulic-amendment",
   "metadata": {},
   "outputs": [],
   "source": [
    "combined_csv.DIRECCION = combined_csv.DIRECCION.fillna('Sin especificar')"
   ]
  },
  {
   "cell_type": "code",
   "execution_count": 15,
   "id": "macro-navigator",
   "metadata": {},
   "outputs": [],
   "source": [
    "combined_csv.TELEFONO = combined_csv.TELEFONO.fillna('Sin especificar')"
   ]
  },
  {
   "cell_type": "code",
   "execution_count": 16,
   "id": "efficient-jamaica",
   "metadata": {},
   "outputs": [],
   "source": [
    "combined_csv.DIRECTOR = combined_csv.DIRECTOR.fillna('Sin especificar')"
   ]
  },
  {
   "cell_type": "code",
   "execution_count": 17,
   "id": "surprising-deficit",
   "metadata": {},
   "outputs": [],
   "source": [
    "combined_csv.SUPERVISOR = combined_csv.SUPERVISOR.fillna('Sin especificar')"
   ]
  },
  {
   "cell_type": "code",
   "execution_count": 18,
   "id": "unlike-think",
   "metadata": {},
   "outputs": [],
   "source": [
    "hidden_NaN = combined_csv.DIRECTOR.str.contains('[.-]')"
   ]
  },
  {
   "cell_type": "code",
   "execution_count": 19,
   "id": "fresh-kingston",
   "metadata": {},
   "outputs": [
    {
     "data": {
      "text/html": [
       "<div>\n",
       "<style scoped>\n",
       "    .dataframe tbody tr th:only-of-type {\n",
       "        vertical-align: middle;\n",
       "    }\n",
       "\n",
       "    .dataframe tbody tr th {\n",
       "        vertical-align: top;\n",
       "    }\n",
       "\n",
       "    .dataframe thead th {\n",
       "        text-align: right;\n",
       "    }\n",
       "</style>\n",
       "<table border=\"1\" class=\"dataframe\">\n",
       "  <thead>\n",
       "    <tr style=\"text-align: right;\">\n",
       "      <th></th>\n",
       "      <th>CODIGO</th>\n",
       "      <th>DISTRITO</th>\n",
       "      <th>DEPARTAMENTO</th>\n",
       "      <th>MUNICIPIO</th>\n",
       "      <th>ESTABLECIMIENTO</th>\n",
       "      <th>DIRECCION</th>\n",
       "      <th>TELEFONO</th>\n",
       "      <th>SUPERVISOR</th>\n",
       "      <th>DIRECTOR</th>\n",
       "      <th>NIVEL</th>\n",
       "      <th>SECTOR</th>\n",
       "      <th>AREA</th>\n",
       "      <th>STATUS</th>\n",
       "      <th>MODALIDAD</th>\n",
       "      <th>JORNADA</th>\n",
       "      <th>PLAN</th>\n",
       "      <th>DEPARTAMENTAL</th>\n",
       "    </tr>\n",
       "  </thead>\n",
       "  <tbody>\n",
       "    <tr>\n",
       "      <th>0</th>\n",
       "      <td>09-01-0040-46</td>\n",
       "      <td>09-041</td>\n",
       "      <td>QUETZALTENANGO</td>\n",
       "      <td>QUETZALTENANGO</td>\n",
       "      <td>COLELGIO EVANGELICO \"LA PATRIA\"</td>\n",
       "      <td>19 AVENIDA 1-28 ZONA 3</td>\n",
       "      <td>Sin especificar</td>\n",
       "      <td>WILSON RANFERI SIGUENZA LOPEZ</td>\n",
       "      <td>----</td>\n",
       "      <td>DIVERSIFICADO</td>\n",
       "      <td>PRIVADO</td>\n",
       "      <td>URBANA</td>\n",
       "      <td>CERRADA TEMPORALMENTE</td>\n",
       "      <td>MONOLINGUE</td>\n",
       "      <td>DOBLE</td>\n",
       "      <td>DIARIO(REGULAR)</td>\n",
       "      <td>QUETZALTENANGO</td>\n",
       "    </tr>\n",
       "    <tr>\n",
       "      <th>18</th>\n",
       "      <td>09-01-0149-46</td>\n",
       "      <td>09-</td>\n",
       "      <td>QUETZALTENANGO</td>\n",
       "      <td>QUETZALTENANGO</td>\n",
       "      <td>INSTITUTO PRIVADO MIXTO DE EDUCACION DIVERSIFI...</td>\n",
       "      <td>9A AVE. D4-71 ZONA 1</td>\n",
       "      <td>Sin especificar</td>\n",
       "      <td>WILSON RANFERI SIGUENZA LOPEZ</td>\n",
       "      <td>.</td>\n",
       "      <td>DIVERSIFICADO</td>\n",
       "      <td>PRIVADO</td>\n",
       "      <td>URBANA</td>\n",
       "      <td>CERRADA TEMPORALMENTE</td>\n",
       "      <td>MONOLINGUE</td>\n",
       "      <td>NOCTURNA</td>\n",
       "      <td>DIARIO(REGULAR)</td>\n",
       "      <td>QUETZALTENANGO</td>\n",
       "    </tr>\n",
       "    <tr>\n",
       "      <th>30</th>\n",
       "      <td>09-01-0196-46</td>\n",
       "      <td>09-005</td>\n",
       "      <td>QUETZALTENANGO</td>\n",
       "      <td>QUETZALTENANGO</td>\n",
       "      <td>INSTITUTO NACIONAL DE EDUCACION DIVERSIFICADA</td>\n",
       "      <td>ZONA 8</td>\n",
       "      <td>Sin especificar</td>\n",
       "      <td>JUAN CARLOS RONQUILLO DE LEON</td>\n",
       "      <td>-</td>\n",
       "      <td>DIVERSIFICADO</td>\n",
       "      <td>OFICIAL</td>\n",
       "      <td>URBANA</td>\n",
       "      <td>ABIERTA</td>\n",
       "      <td>MONOLINGUE</td>\n",
       "      <td>VESPERTINA</td>\n",
       "      <td>DIARIO(REGULAR)</td>\n",
       "      <td>QUETZALTENANGO</td>\n",
       "    </tr>\n",
       "    <tr>\n",
       "      <th>31</th>\n",
       "      <td>09-01-0197-46</td>\n",
       "      <td>09-005</td>\n",
       "      <td>QUETZALTENANGO</td>\n",
       "      <td>QUETZALTENANGO</td>\n",
       "      <td>INSTITUTO NACIONAL DE EDUCACION DIVERSIFICADA</td>\n",
       "      <td>25 AVENIDA 3-45 ZONA 3</td>\n",
       "      <td>77619739</td>\n",
       "      <td>JUAN CARLOS RONQUILLO DE LEON</td>\n",
       "      <td>-</td>\n",
       "      <td>DIVERSIFICADO</td>\n",
       "      <td>OFICIAL</td>\n",
       "      <td>URBANA</td>\n",
       "      <td>ABIERTA</td>\n",
       "      <td>MONOLINGUE</td>\n",
       "      <td>VESPERTINA</td>\n",
       "      <td>DIARIO(REGULAR)</td>\n",
       "      <td>QUETZALTENANGO</td>\n",
       "    </tr>\n",
       "    <tr>\n",
       "      <th>32</th>\n",
       "      <td>09-01-0198-46</td>\n",
       "      <td>09-005</td>\n",
       "      <td>QUETZALTENANGO</td>\n",
       "      <td>QUETZALTENANGO</td>\n",
       "      <td>INSTITUTO NACIONAL DE EDUCACION DIVERSIFICADA</td>\n",
       "      <td>7MA. CALLE 29-25 ZONA 3</td>\n",
       "      <td>42542749</td>\n",
       "      <td>JUAN CARLOS RONQUILLO DE LEON</td>\n",
       "      <td>-</td>\n",
       "      <td>DIVERSIFICADO</td>\n",
       "      <td>OFICIAL</td>\n",
       "      <td>URBANA</td>\n",
       "      <td>ABIERTA</td>\n",
       "      <td>MONOLINGUE</td>\n",
       "      <td>VESPERTINA</td>\n",
       "      <td>DIARIO(REGULAR)</td>\n",
       "      <td>QUETZALTENANGO</td>\n",
       "    </tr>\n",
       "  </tbody>\n",
       "</table>\n",
       "</div>"
      ],
      "text/plain": [
       "           CODIGO DISTRITO    DEPARTAMENTO       MUNICIPIO  \\\n",
       "0   09-01-0040-46   09-041  QUETZALTENANGO  QUETZALTENANGO   \n",
       "18  09-01-0149-46      09-  QUETZALTENANGO  QUETZALTENANGO   \n",
       "30  09-01-0196-46   09-005  QUETZALTENANGO  QUETZALTENANGO   \n",
       "31  09-01-0197-46   09-005  QUETZALTENANGO  QUETZALTENANGO   \n",
       "32  09-01-0198-46   09-005  QUETZALTENANGO  QUETZALTENANGO   \n",
       "\n",
       "                                      ESTABLECIMIENTO  \\\n",
       "0                     COLELGIO EVANGELICO \"LA PATRIA\"   \n",
       "18  INSTITUTO PRIVADO MIXTO DE EDUCACION DIVERSIFI...   \n",
       "30      INSTITUTO NACIONAL DE EDUCACION DIVERSIFICADA   \n",
       "31      INSTITUTO NACIONAL DE EDUCACION DIVERSIFICADA   \n",
       "32      INSTITUTO NACIONAL DE EDUCACION DIVERSIFICADA   \n",
       "\n",
       "                  DIRECCION         TELEFONO                     SUPERVISOR  \\\n",
       "0    19 AVENIDA 1-28 ZONA 3  Sin especificar  WILSON RANFERI SIGUENZA LOPEZ   \n",
       "18     9A AVE. D4-71 ZONA 1  Sin especificar  WILSON RANFERI SIGUENZA LOPEZ   \n",
       "30                   ZONA 8  Sin especificar  JUAN CARLOS RONQUILLO DE LEON   \n",
       "31   25 AVENIDA 3-45 ZONA 3         77619739  JUAN CARLOS RONQUILLO DE LEON   \n",
       "32  7MA. CALLE 29-25 ZONA 3         42542749  JUAN CARLOS RONQUILLO DE LEON   \n",
       "\n",
       "   DIRECTOR          NIVEL   SECTOR    AREA                 STATUS  \\\n",
       "0      ----  DIVERSIFICADO  PRIVADO  URBANA  CERRADA TEMPORALMENTE   \n",
       "18        .  DIVERSIFICADO  PRIVADO  URBANA  CERRADA TEMPORALMENTE   \n",
       "30        -  DIVERSIFICADO  OFICIAL  URBANA                ABIERTA   \n",
       "31        -  DIVERSIFICADO  OFICIAL  URBANA                ABIERTA   \n",
       "32        -  DIVERSIFICADO  OFICIAL  URBANA                ABIERTA   \n",
       "\n",
       "     MODALIDAD     JORNADA             PLAN   DEPARTAMENTAL  \n",
       "0   MONOLINGUE       DOBLE  DIARIO(REGULAR)  QUETZALTENANGO  \n",
       "18  MONOLINGUE    NOCTURNA  DIARIO(REGULAR)  QUETZALTENANGO  \n",
       "30  MONOLINGUE  VESPERTINA  DIARIO(REGULAR)  QUETZALTENANGO  \n",
       "31  MONOLINGUE  VESPERTINA  DIARIO(REGULAR)  QUETZALTENANGO  \n",
       "32  MONOLINGUE  VESPERTINA  DIARIO(REGULAR)  QUETZALTENANGO  "
      ]
     },
     "execution_count": 19,
     "metadata": {},
     "output_type": "execute_result"
    }
   ],
   "source": [
    "combined_csv.loc[hidden_NaN].head()"
   ]
  },
  {
   "cell_type": "code",
   "execution_count": 20,
   "id": "neural-brighton",
   "metadata": {},
   "outputs": [],
   "source": [
    "h = combined_csv.loc[hidden_NaN]"
   ]
  },
  {
   "cell_type": "code",
   "execution_count": 21,
   "id": "trained-commissioner",
   "metadata": {},
   "outputs": [
    {
     "data": {
      "text/plain": [
       "423"
      ]
     },
     "execution_count": 21,
     "metadata": {},
     "output_type": "execute_result"
    }
   ],
   "source": [
    "len(combined_csv.DIRECTOR[hidden_NaN])"
   ]
  },
  {
   "cell_type": "code",
   "execution_count": 22,
   "id": "antique-acoustic",
   "metadata": {},
   "outputs": [],
   "source": [
    "for i in list(h.index):\n",
    "    combined_csv['DIRECTOR'][i] = 'Sin especificar'"
   ]
  },
  {
   "cell_type": "code",
   "execution_count": 23,
   "id": "touched-colorado",
   "metadata": {},
   "outputs": [],
   "source": [
    "hidden_NaN = combined_csv.DIRECTOR.str.contains('[.-]')"
   ]
  },
  {
   "cell_type": "code",
   "execution_count": 24,
   "id": "premium-german",
   "metadata": {},
   "outputs": [
    {
     "data": {
      "text/plain": [
       "0"
      ]
     },
     "execution_count": 24,
     "metadata": {},
     "output_type": "execute_result"
    }
   ],
   "source": [
    "len(combined_csv.DIRECTOR[hidden_NaN])"
   ]
  },
  {
   "cell_type": "code",
   "execution_count": 25,
   "id": "excessive-freeware",
   "metadata": {},
   "outputs": [
    {
     "data": {
      "text/plain": [
       "CODIGO             0\n",
       "DISTRITO           0\n",
       "DEPARTAMENTO       0\n",
       "MUNICIPIO          0\n",
       "ESTABLECIMIENTO    0\n",
       "DIRECCION          0\n",
       "TELEFONO           0\n",
       "SUPERVISOR         0\n",
       "DIRECTOR           0\n",
       "NIVEL              0\n",
       "SECTOR             0\n",
       "AREA               0\n",
       "STATUS             0\n",
       "MODALIDAD          0\n",
       "JORNADA            0\n",
       "PLAN               0\n",
       "DEPARTAMENTAL      0\n",
       "dtype: int64"
      ]
     },
     "execution_count": 25,
     "metadata": {},
     "output_type": "execute_result"
    }
   ],
   "source": [
    "combined_csv.isnull().sum()"
   ]
  },
  {
   "cell_type": "code",
   "execution_count": null,
   "id": "bored-citation",
   "metadata": {},
   "outputs": [],
   "source": []
  }
 ],
 "metadata": {
  "kernelspec": {
   "display_name": "Python 3",
   "language": "python",
   "name": "python3"
  },
  "language_info": {
   "codemirror_mode": {
    "name": "ipython",
    "version": 3
   },
   "file_extension": ".py",
   "mimetype": "text/x-python",
   "name": "python",
   "nbconvert_exporter": "python",
   "pygments_lexer": "ipython3",
   "version": "3.9.1"
  }
 },
 "nbformat": 4,
 "nbformat_minor": 5
}
