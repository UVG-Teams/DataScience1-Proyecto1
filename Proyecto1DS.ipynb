{
 "cells": [
  {
   "cell_type": "code",
   "execution_count": 1,
   "id": "97ef2d0f-6f92-42ee-9e2e-82c3628bc557",
   "metadata": {},
   "outputs": [],
   "source": [
    "import pandas as pd\n",
    "import numpy as np\n",
    "\n",
    "import os\n",
    "import glob\n",
    "os.chdir('./Colegios')"
   ]
  },
  {
   "cell_type": "code",
   "execution_count": 2,
   "id": "bed54539-ccc1-4af5-baad-8b539daedbad",
   "metadata": {},
   "outputs": [
    {
     "data": {
      "text/plain": [
       "24"
      ]
     },
     "execution_count": 2,
     "metadata": {},
     "output_type": "execute_result"
    }
   ],
   "source": [
    "#all_filenames = [i for i in glob.glob('*.{}'.format('csv'))]\n",
    "all_filenames = []\n",
    "for i in glob.glob('*.{}'.format('csv')):\n",
    "    f = open(i)\n",
    "    newDoc = open('temp/temp_'+i, 'w+')\n",
    "    for index, line in enumerate(f):\n",
    "        if index != 0:\n",
    "            newDoc.write(line)\n",
    "    file = pd.read_csv('temp/temp_'+i)\n",
    "    all_filenames.append(file)\n",
    "len(all_filenames)"
   ]
  },
  {
   "cell_type": "code",
   "execution_count": 3,
   "id": "f7146001-5ff2-49a2-91ce-f59be4873643",
   "metadata": {},
   "outputs": [],
   "source": [
    "combined_csv = None\n",
    "combined_csv = pd.concat([f for f in all_filenames ])\n",
    "combined_csv.to_csv( \"combined_csv.csv\", index=False)"
   ]
  },
  {
   "cell_type": "code",
   "execution_count": 4,
   "id": "a250552b-b420-49cd-87a7-7304c1477f34",
   "metadata": {},
   "outputs": [
    {
     "data": {
      "text/html": [
       "<div>\n",
       "<style scoped>\n",
       "    .dataframe tbody tr th:only-of-type {\n",
       "        vertical-align: middle;\n",
       "    }\n",
       "\n",
       "    .dataframe tbody tr th {\n",
       "        vertical-align: top;\n",
       "    }\n",
       "\n",
       "    .dataframe thead th {\n",
       "        text-align: right;\n",
       "    }\n",
       "</style>\n",
       "<table border=\"1\" class=\"dataframe\">\n",
       "  <thead>\n",
       "    <tr style=\"text-align: right;\">\n",
       "      <th></th>\n",
       "      <th>CODIGO</th>\n",
       "      <th>DISTRITO</th>\n",
       "      <th>DEPARTAMENTO</th>\n",
       "      <th>MUNICIPIO</th>\n",
       "      <th>ESTABLECIMIENTO</th>\n",
       "      <th>DIRECCION</th>\n",
       "      <th>TELEFONO</th>\n",
       "      <th>SUPERVISOR</th>\n",
       "      <th>DIRECTOR</th>\n",
       "      <th>NIVEL</th>\n",
       "      <th>...</th>\n",
       "      <th>WILSON RANFERI SIGUENZA LOPEZ</th>\n",
       "      <th>----</th>\n",
       "      <th>DIVERSIFICADO</th>\n",
       "      <th>PRIVADO</th>\n",
       "      <th>URBANA</th>\n",
       "      <th>CERRADA TEMPORALMENTE</th>\n",
       "      <th>MONOLINGUE</th>\n",
       "      <th>DOBLE</th>\n",
       "      <th>DIARIO(REGULAR)</th>\n",
       "      <th>QUETZALTENANGO.2</th>\n",
       "    </tr>\n",
       "  </thead>\n",
       "  <tbody>\n",
       "    <tr>\n",
       "      <th>0</th>\n",
       "      <td>09-01-0040-46</td>\n",
       "      <td>09-041</td>\n",
       "      <td>QUETZALTENANGO</td>\n",
       "      <td>QUETZALTENANGO</td>\n",
       "      <td>COLELGIO EVANGELICO \"LA PATRIA\"</td>\n",
       "      <td>19 AVENIDA 1-28 ZONA 3</td>\n",
       "      <td>NaN</td>\n",
       "      <td>WILSON RANFERI SIGUENZA LOPEZ</td>\n",
       "      <td>----</td>\n",
       "      <td>DIVERSIFICADO</td>\n",
       "      <td>...</td>\n",
       "      <td>NaN</td>\n",
       "      <td>NaN</td>\n",
       "      <td>NaN</td>\n",
       "      <td>NaN</td>\n",
       "      <td>NaN</td>\n",
       "      <td>NaN</td>\n",
       "      <td>NaN</td>\n",
       "      <td>NaN</td>\n",
       "      <td>NaN</td>\n",
       "      <td>NaN</td>\n",
       "    </tr>\n",
       "    <tr>\n",
       "      <th>1</th>\n",
       "      <td>09-01-0098-46</td>\n",
       "      <td>09-006</td>\n",
       "      <td>QUETZALTENANGO</td>\n",
       "      <td>QUETZALTENANGO</td>\n",
       "      <td>COLEGIO PRIVADO MIXTO \"SUIZO QUETZALTENANGO\"</td>\n",
       "      <td>1RA CALLE 43-50 ZONA 8</td>\n",
       "      <td>79267367</td>\n",
       "      <td>PEDRO GERсNIMO SARAT CHAJ</td>\n",
       "      <td>MIRNA LETICIA CIFUENTES GODINEZ DE CIFUENTES</td>\n",
       "      <td>DIVERSIFICADO</td>\n",
       "      <td>...</td>\n",
       "      <td>NaN</td>\n",
       "      <td>NaN</td>\n",
       "      <td>NaN</td>\n",
       "      <td>NaN</td>\n",
       "      <td>NaN</td>\n",
       "      <td>NaN</td>\n",
       "      <td>NaN</td>\n",
       "      <td>NaN</td>\n",
       "      <td>NaN</td>\n",
       "      <td>NaN</td>\n",
       "    </tr>\n",
       "    <tr>\n",
       "      <th>2</th>\n",
       "      <td>09-01-0125-46</td>\n",
       "      <td>09-005</td>\n",
       "      <td>QUETZALTENANGO</td>\n",
       "      <td>QUETZALTENANGO</td>\n",
       "      <td>INSTITUTO NACIONAL DE BACHILLERATO POR MADUREZ...</td>\n",
       "      <td>4A. CALLE 25-20, ZONA 3</td>\n",
       "      <td>41514439</td>\n",
       "      <td>JUAN CARLOS RONQUILLO DE LEON</td>\n",
       "      <td>NaN</td>\n",
       "      <td>DIVERSIFICADO</td>\n",
       "      <td>...</td>\n",
       "      <td>NaN</td>\n",
       "      <td>NaN</td>\n",
       "      <td>NaN</td>\n",
       "      <td>NaN</td>\n",
       "      <td>NaN</td>\n",
       "      <td>NaN</td>\n",
       "      <td>NaN</td>\n",
       "      <td>NaN</td>\n",
       "      <td>NaN</td>\n",
       "      <td>NaN</td>\n",
       "    </tr>\n",
       "    <tr>\n",
       "      <th>3</th>\n",
       "      <td>09-01-0126-46</td>\n",
       "      <td>09-005</td>\n",
       "      <td>QUETZALTENANGO</td>\n",
       "      <td>QUETZALTENANGO</td>\n",
       "      <td>ESCUELA NACIONAL DE CIENCIAS COMERCIALES 'PROF...</td>\n",
       "      <td>5A CALLE 12-60 ZONA 3</td>\n",
       "      <td>50171669</td>\n",
       "      <td>JUAN CARLOS RONQUILLO DE LEON</td>\n",
       "      <td>NaN</td>\n",
       "      <td>DIVERSIFICADO</td>\n",
       "      <td>...</td>\n",
       "      <td>NaN</td>\n",
       "      <td>NaN</td>\n",
       "      <td>NaN</td>\n",
       "      <td>NaN</td>\n",
       "      <td>NaN</td>\n",
       "      <td>NaN</td>\n",
       "      <td>NaN</td>\n",
       "      <td>NaN</td>\n",
       "      <td>NaN</td>\n",
       "      <td>NaN</td>\n",
       "    </tr>\n",
       "    <tr>\n",
       "      <th>4</th>\n",
       "      <td>09-01-0131-46</td>\n",
       "      <td>09-005</td>\n",
       "      <td>QUETZALTENANGO</td>\n",
       "      <td>QUETZALTENANGO</td>\n",
       "      <td>INSTITUTO NORMAL PARA VARONES DE OCCIDENTE I.N...</td>\n",
       "      <td>7MA. CALLE 29-25 ZONA 3</td>\n",
       "      <td>77611583</td>\n",
       "      <td>JUAN CARLOS RONQUILLO DE LEON</td>\n",
       "      <td>FRANCISCO MIGUEL TIRADO HUINAC</td>\n",
       "      <td>DIVERSIFICADO</td>\n",
       "      <td>...</td>\n",
       "      <td>NaN</td>\n",
       "      <td>NaN</td>\n",
       "      <td>NaN</td>\n",
       "      <td>NaN</td>\n",
       "      <td>NaN</td>\n",
       "      <td>NaN</td>\n",
       "      <td>NaN</td>\n",
       "      <td>NaN</td>\n",
       "      <td>NaN</td>\n",
       "      <td>NaN</td>\n",
       "    </tr>\n",
       "  </tbody>\n",
       "</table>\n",
       "<p>5 rows × 34 columns</p>\n",
       "</div>"
      ],
      "text/plain": [
       "          CODIGO DISTRITO    DEPARTAMENTO       MUNICIPIO  \\\n",
       "0  09-01-0040-46   09-041  QUETZALTENANGO  QUETZALTENANGO   \n",
       "1  09-01-0098-46   09-006  QUETZALTENANGO  QUETZALTENANGO   \n",
       "2  09-01-0125-46   09-005  QUETZALTENANGO  QUETZALTENANGO   \n",
       "3  09-01-0126-46   09-005  QUETZALTENANGO  QUETZALTENANGO   \n",
       "4  09-01-0131-46   09-005  QUETZALTENANGO  QUETZALTENANGO   \n",
       "\n",
       "                                     ESTABLECIMIENTO                DIRECCION  \\\n",
       "0                    COLELGIO EVANGELICO \"LA PATRIA\"   19 AVENIDA 1-28 ZONA 3   \n",
       "1       COLEGIO PRIVADO MIXTO \"SUIZO QUETZALTENANGO\"   1RA CALLE 43-50 ZONA 8   \n",
       "2  INSTITUTO NACIONAL DE BACHILLERATO POR MADUREZ...  4A. CALLE 25-20, ZONA 3   \n",
       "3  ESCUELA NACIONAL DE CIENCIAS COMERCIALES 'PROF...    5A CALLE 12-60 ZONA 3   \n",
       "4  INSTITUTO NORMAL PARA VARONES DE OCCIDENTE I.N...  7MA. CALLE 29-25 ZONA 3   \n",
       "\n",
       "   TELEFONO                     SUPERVISOR  \\\n",
       "0       NaN  WILSON RANFERI SIGUENZA LOPEZ   \n",
       "1  79267367      PEDRO GERсNIMO SARAT CHAJ   \n",
       "2  41514439  JUAN CARLOS RONQUILLO DE LEON   \n",
       "3  50171669  JUAN CARLOS RONQUILLO DE LEON   \n",
       "4  77611583  JUAN CARLOS RONQUILLO DE LEON   \n",
       "\n",
       "                                       DIRECTOR          NIVEL  ...  \\\n",
       "0                                          ----  DIVERSIFICADO  ...   \n",
       "1  MIRNA LETICIA CIFUENTES GODINEZ DE CIFUENTES  DIVERSIFICADO  ...   \n",
       "2                                           NaN  DIVERSIFICADO  ...   \n",
       "3                                           NaN  DIVERSIFICADO  ...   \n",
       "4                FRANCISCO MIGUEL TIRADO HUINAC  DIVERSIFICADO  ...   \n",
       "\n",
       "  WILSON RANFERI SIGUENZA LOPEZ ---- DIVERSIFICADO PRIVADO URBANA  \\\n",
       "0                           NaN  NaN           NaN     NaN    NaN   \n",
       "1                           NaN  NaN           NaN     NaN    NaN   \n",
       "2                           NaN  NaN           NaN     NaN    NaN   \n",
       "3                           NaN  NaN           NaN     NaN    NaN   \n",
       "4                           NaN  NaN           NaN     NaN    NaN   \n",
       "\n",
       "  CERRADA TEMPORALMENTE MONOLINGUE DOBLE DIARIO(REGULAR) QUETZALTENANGO.2  \n",
       "0                   NaN        NaN   NaN             NaN              NaN  \n",
       "1                   NaN        NaN   NaN             NaN              NaN  \n",
       "2                   NaN        NaN   NaN             NaN              NaN  \n",
       "3                   NaN        NaN   NaN             NaN              NaN  \n",
       "4                   NaN        NaN   NaN             NaN              NaN  \n",
       "\n",
       "[5 rows x 34 columns]"
      ]
     },
     "execution_count": 4,
     "metadata": {},
     "output_type": "execute_result"
    }
   ],
   "source": [
    "combined_csv.head()"
   ]
  },
  {
   "cell_type": "code",
   "execution_count": 5,
   "id": "fc8b155a-fd32-44ca-8211-b4afb27bda66",
   "metadata": {},
   "outputs": [
    {
     "data": {
      "text/plain": [
       "CODIGO                             7559\n",
       "DISTRITO                           7350\n",
       "DEPARTAMENTO                       7559\n",
       "MUNICIPIO                          7559\n",
       "ESTABLECIMIENTO                    7559\n",
       "DIRECCION                          7507\n",
       "TELEFONO                           7021\n",
       "SUPERVISOR                         7349\n",
       "DIRECTOR                           5969\n",
       "NIVEL                              7559\n",
       "SECTOR                             7559\n",
       "AREA                               7559\n",
       "STATUS                             7559\n",
       "MODALIDAD                          7559\n",
       "JORNADA                            7559\n",
       "PLAN                               7559\n",
       "DEPARTAMENTAL                      7559\n",
       "09-01-0040-46                      7529\n",
       "09-041                             7320\n",
       "QUETZALTENANGO                     7529\n",
       "QUETZALTENANGO.1                   7529\n",
       "COLELGIO EVANGELICO \"LA PATRIA\"    7529\n",
       "19 AVENIDA 1-28 ZONA 3             7477\n",
       "Unnamed: 6                         6992\n",
       "WILSON RANFERI SIGUENZA LOPEZ      7319\n",
       "----                               5941\n",
       "DIVERSIFICADO                      7529\n",
       "PRIVADO                            7529\n",
       "URBANA                             7529\n",
       "CERRADA TEMPORALMENTE              7529\n",
       "MONOLINGUE                         7529\n",
       "DOBLE                              7529\n",
       "DIARIO(REGULAR)                    7529\n",
       "QUETZALTENANGO.2                   7529\n",
       "dtype: int64"
      ]
     },
     "execution_count": 5,
     "metadata": {},
     "output_type": "execute_result"
    }
   ],
   "source": [
    "combined_csv.count()"
   ]
  },
  {
   "cell_type": "markdown",
   "id": "71637828-51ef-49f6-b8e5-47de6e27f545",
   "metadata": {},
   "source": [
    "# Duplicados"
   ]
  },
  {
   "cell_type": "code",
   "execution_count": 6,
   "id": "a6e20c3f-e751-4878-af5c-e9dedeab4322",
   "metadata": {},
   "outputs": [
    {
     "data": {
      "text/plain": [
       "1"
      ]
     },
     "execution_count": 6,
     "metadata": {},
     "output_type": "execute_result"
    }
   ],
   "source": [
    "combined_csv.duplicated().sum()"
   ]
  },
  {
   "cell_type": "code",
   "execution_count": 7,
   "id": "ab366d0a-ce64-4934-87aa-0b60e96dc56a",
   "metadata": {},
   "outputs": [
    {
     "data": {
      "text/plain": [
       "10537"
      ]
     },
     "execution_count": 7,
     "metadata": {},
     "output_type": "execute_result"
    }
   ],
   "source": [
    "combined_csv.ESTABLECIMIENTO.duplicated().sum()"
   ]
  },
  {
   "cell_type": "code",
   "execution_count": 8,
   "id": "b8b2bc68-014e-43af-9b4f-a3e7e1ab66b3",
   "metadata": {},
   "outputs": [
    {
     "data": {
      "text/plain": [
       "['INSTITUTO NORMAL PARA SEяORITAS DE OCCIDENTE',\n",
       " 'INSTITUTO PRIVADO MIXTO DE EDUCACION DIVERSIFICADA COLEGIO CORAZON DE JESUS',\n",
       " \"COLEGIO MIXTO BILINGUE 'SAN PABLO'\",\n",
       " 'COLEGIO EVANGELICO LA PATRIA',\n",
       " 'INSTITUTO TECNOLсGICO PRIVADO DE OCCIDENTE',\n",
       " 'INSTITUTO PRIVADO MIXTO DE OCCIDENTE',\n",
       " 'INSTITUTO PRIVADO MIXTO DE EDUCACION DIVERSIFICADA COLEGIO CORAZON DE JESUS',\n",
       " 'COLEGIO PRIVADO MIXTO \"LICEO EDUCACIONAL LIVERMORE\"',\n",
       " 'COLEGIO MIXTO PRIVADO SAN JOSи',\n",
       " 'COLEGIO PRIVADO MIXTO \"LICEO EDUCACIONAL LIVERMORE\"']"
      ]
     },
     "execution_count": 8,
     "metadata": {},
     "output_type": "execute_result"
    }
   ],
   "source": [
    "duplicates = combined_csv[combined_csv['ESTABLECIMIENTO'].duplicated(keep=False)]['ESTABLECIMIENTO'].tolist()\n",
    "duplicates[:10]"
   ]
  },
  {
   "cell_type": "code",
   "execution_count": 10,
   "id": "46163886-e378-4c62-8ec3-34bf590b8788",
   "metadata": {},
   "outputs": [
    {
     "ename": "IndexError",
     "evalue": "single positional indexer is out-of-bounds",
     "output_type": "error",
     "traceback": [
      "\u001b[0;31m---------------------------------------------------------------------------\u001b[0m",
      "\u001b[0;31mIndexError\u001b[0m                                Traceback (most recent call last)",
      "\u001b[0;32m/var/folders/z9/wnfc77ln1bd8v7l_z7_h2d5w0000gn/T/ipykernel_12493/2805540122.py\u001b[0m in \u001b[0;36m<module>\u001b[0;34m\u001b[0m\n\u001b[1;32m      3\u001b[0m     \u001b[0mdup\u001b[0m \u001b[0;34m=\u001b[0m \u001b[0mcombined_csv\u001b[0m\u001b[0;34m[\u001b[0m\u001b[0mcombined_csv\u001b[0m\u001b[0;34m[\u001b[0m\u001b[0;34m'ESTABLECIMIENTO'\u001b[0m\u001b[0;34m]\u001b[0m \u001b[0;34m==\u001b[0m \u001b[0mr\u001b[0m\u001b[0;34m]\u001b[0m\u001b[0;34m\u001b[0m\u001b[0;34m\u001b[0m\u001b[0m\n\u001b[1;32m      4\u001b[0m     \u001b[0;31m#print(combined_csv.loc[dup.iloc[1,:].name, 'ESTABLECIMIENTO'])\u001b[0m\u001b[0;34m\u001b[0m\u001b[0;34m\u001b[0m\u001b[0;34m\u001b[0m\u001b[0m\n\u001b[0;32m----> 5\u001b[0;31m     \u001b[0mprint\u001b[0m\u001b[0;34m(\u001b[0m\u001b[0mcombined_csv\u001b[0m\u001b[0;34m.\u001b[0m\u001b[0mloc\u001b[0m\u001b[0;34m[\u001b[0m\u001b[0mdup\u001b[0m\u001b[0;34m.\u001b[0m\u001b[0miloc\u001b[0m\u001b[0;34m[\u001b[0m\u001b[0;36m1\u001b[0m\u001b[0;34m,\u001b[0m\u001b[0;34m:\u001b[0m\u001b[0;34m]\u001b[0m\u001b[0;34m.\u001b[0m\u001b[0mname\u001b[0m\u001b[0;34m,\u001b[0m \u001b[0;34m'ESTABLECIMIENTO'\u001b[0m\u001b[0;34m]\u001b[0m\u001b[0;34m)\u001b[0m\u001b[0;34m\u001b[0m\u001b[0;34m\u001b[0m\u001b[0m\n\u001b[0m\u001b[1;32m      6\u001b[0m     \u001b[0;31m#combined_csv.loc[dup.iloc[1,:].name, 'ESTABLECIMIENTO'] = combined_csv.loc[dup.iloc[1,:].name]['ESTABLECIMIENTO'] + 'z'\u001b[0m\u001b[0;34m\u001b[0m\u001b[0;34m\u001b[0m\u001b[0;34m\u001b[0m\u001b[0m\n",
      "\u001b[0;32m/Library/Frameworks/Python.framework/Versions/3.9/lib/python3.9/site-packages/pandas/core/indexing.py\u001b[0m in \u001b[0;36m__getitem__\u001b[0;34m(self, key)\u001b[0m\n\u001b[1;32m    923\u001b[0m                 \u001b[0;32mwith\u001b[0m \u001b[0msuppress\u001b[0m\u001b[0;34m(\u001b[0m\u001b[0mKeyError\u001b[0m\u001b[0;34m,\u001b[0m \u001b[0mIndexError\u001b[0m\u001b[0;34m)\u001b[0m\u001b[0;34m:\u001b[0m\u001b[0;34m\u001b[0m\u001b[0;34m\u001b[0m\u001b[0m\n\u001b[1;32m    924\u001b[0m                     \u001b[0;32mreturn\u001b[0m \u001b[0mself\u001b[0m\u001b[0;34m.\u001b[0m\u001b[0mobj\u001b[0m\u001b[0;34m.\u001b[0m\u001b[0m_get_value\u001b[0m\u001b[0;34m(\u001b[0m\u001b[0;34m*\u001b[0m\u001b[0mkey\u001b[0m\u001b[0;34m,\u001b[0m \u001b[0mtakeable\u001b[0m\u001b[0;34m=\u001b[0m\u001b[0mself\u001b[0m\u001b[0;34m.\u001b[0m\u001b[0m_takeable\u001b[0m\u001b[0;34m)\u001b[0m\u001b[0;34m\u001b[0m\u001b[0;34m\u001b[0m\u001b[0m\n\u001b[0;32m--> 925\u001b[0;31m             \u001b[0;32mreturn\u001b[0m \u001b[0mself\u001b[0m\u001b[0;34m.\u001b[0m\u001b[0m_getitem_tuple\u001b[0m\u001b[0;34m(\u001b[0m\u001b[0mkey\u001b[0m\u001b[0;34m)\u001b[0m\u001b[0;34m\u001b[0m\u001b[0;34m\u001b[0m\u001b[0m\n\u001b[0m\u001b[1;32m    926\u001b[0m         \u001b[0;32melse\u001b[0m\u001b[0;34m:\u001b[0m\u001b[0;34m\u001b[0m\u001b[0;34m\u001b[0m\u001b[0m\n\u001b[1;32m    927\u001b[0m             \u001b[0;31m# we by definition only have the 0th axis\u001b[0m\u001b[0;34m\u001b[0m\u001b[0;34m\u001b[0m\u001b[0;34m\u001b[0m\u001b[0m\n",
      "\u001b[0;32m/Library/Frameworks/Python.framework/Versions/3.9/lib/python3.9/site-packages/pandas/core/indexing.py\u001b[0m in \u001b[0;36m_getitem_tuple\u001b[0;34m(self, tup)\u001b[0m\n\u001b[1;32m   1504\u001b[0m     \u001b[0;32mdef\u001b[0m \u001b[0m_getitem_tuple\u001b[0m\u001b[0;34m(\u001b[0m\u001b[0mself\u001b[0m\u001b[0;34m,\u001b[0m \u001b[0mtup\u001b[0m\u001b[0;34m:\u001b[0m \u001b[0mtuple\u001b[0m\u001b[0;34m)\u001b[0m\u001b[0;34m:\u001b[0m\u001b[0;34m\u001b[0m\u001b[0;34m\u001b[0m\u001b[0m\n\u001b[1;32m   1505\u001b[0m \u001b[0;34m\u001b[0m\u001b[0m\n\u001b[0;32m-> 1506\u001b[0;31m         \u001b[0mself\u001b[0m\u001b[0;34m.\u001b[0m\u001b[0m_has_valid_tuple\u001b[0m\u001b[0;34m(\u001b[0m\u001b[0mtup\u001b[0m\u001b[0;34m)\u001b[0m\u001b[0;34m\u001b[0m\u001b[0;34m\u001b[0m\u001b[0m\n\u001b[0m\u001b[1;32m   1507\u001b[0m         \u001b[0;32mwith\u001b[0m \u001b[0msuppress\u001b[0m\u001b[0;34m(\u001b[0m\u001b[0mIndexingError\u001b[0m\u001b[0;34m)\u001b[0m\u001b[0;34m:\u001b[0m\u001b[0;34m\u001b[0m\u001b[0;34m\u001b[0m\u001b[0m\n\u001b[1;32m   1508\u001b[0m             \u001b[0;32mreturn\u001b[0m \u001b[0mself\u001b[0m\u001b[0;34m.\u001b[0m\u001b[0m_getitem_lowerdim\u001b[0m\u001b[0;34m(\u001b[0m\u001b[0mtup\u001b[0m\u001b[0;34m)\u001b[0m\u001b[0;34m\u001b[0m\u001b[0;34m\u001b[0m\u001b[0m\n",
      "\u001b[0;32m/Library/Frameworks/Python.framework/Versions/3.9/lib/python3.9/site-packages/pandas/core/indexing.py\u001b[0m in \u001b[0;36m_has_valid_tuple\u001b[0;34m(self, key)\u001b[0m\n\u001b[1;32m    752\u001b[0m         \u001b[0;32mfor\u001b[0m \u001b[0mi\u001b[0m\u001b[0;34m,\u001b[0m \u001b[0mk\u001b[0m \u001b[0;32min\u001b[0m \u001b[0menumerate\u001b[0m\u001b[0;34m(\u001b[0m\u001b[0mkey\u001b[0m\u001b[0;34m)\u001b[0m\u001b[0;34m:\u001b[0m\u001b[0;34m\u001b[0m\u001b[0;34m\u001b[0m\u001b[0m\n\u001b[1;32m    753\u001b[0m             \u001b[0;32mtry\u001b[0m\u001b[0;34m:\u001b[0m\u001b[0;34m\u001b[0m\u001b[0;34m\u001b[0m\u001b[0m\n\u001b[0;32m--> 754\u001b[0;31m                 \u001b[0mself\u001b[0m\u001b[0;34m.\u001b[0m\u001b[0m_validate_key\u001b[0m\u001b[0;34m(\u001b[0m\u001b[0mk\u001b[0m\u001b[0;34m,\u001b[0m \u001b[0mi\u001b[0m\u001b[0;34m)\u001b[0m\u001b[0;34m\u001b[0m\u001b[0;34m\u001b[0m\u001b[0m\n\u001b[0m\u001b[1;32m    755\u001b[0m             \u001b[0;32mexcept\u001b[0m \u001b[0mValueError\u001b[0m \u001b[0;32mas\u001b[0m \u001b[0merr\u001b[0m\u001b[0;34m:\u001b[0m\u001b[0;34m\u001b[0m\u001b[0;34m\u001b[0m\u001b[0m\n\u001b[1;32m    756\u001b[0m                 raise ValueError(\n",
      "\u001b[0;32m/Library/Frameworks/Python.framework/Versions/3.9/lib/python3.9/site-packages/pandas/core/indexing.py\u001b[0m in \u001b[0;36m_validate_key\u001b[0;34m(self, key, axis)\u001b[0m\n\u001b[1;32m   1407\u001b[0m             \u001b[0;32mreturn\u001b[0m\u001b[0;34m\u001b[0m\u001b[0;34m\u001b[0m\u001b[0m\n\u001b[1;32m   1408\u001b[0m         \u001b[0;32melif\u001b[0m \u001b[0mis_integer\u001b[0m\u001b[0;34m(\u001b[0m\u001b[0mkey\u001b[0m\u001b[0;34m)\u001b[0m\u001b[0;34m:\u001b[0m\u001b[0;34m\u001b[0m\u001b[0;34m\u001b[0m\u001b[0m\n\u001b[0;32m-> 1409\u001b[0;31m             \u001b[0mself\u001b[0m\u001b[0;34m.\u001b[0m\u001b[0m_validate_integer\u001b[0m\u001b[0;34m(\u001b[0m\u001b[0mkey\u001b[0m\u001b[0;34m,\u001b[0m \u001b[0maxis\u001b[0m\u001b[0;34m)\u001b[0m\u001b[0;34m\u001b[0m\u001b[0;34m\u001b[0m\u001b[0m\n\u001b[0m\u001b[1;32m   1410\u001b[0m         \u001b[0;32melif\u001b[0m \u001b[0misinstance\u001b[0m\u001b[0;34m(\u001b[0m\u001b[0mkey\u001b[0m\u001b[0;34m,\u001b[0m \u001b[0mtuple\u001b[0m\u001b[0;34m)\u001b[0m\u001b[0;34m:\u001b[0m\u001b[0;34m\u001b[0m\u001b[0;34m\u001b[0m\u001b[0m\n\u001b[1;32m   1411\u001b[0m             \u001b[0;31m# a tuple should already have been caught by this point\u001b[0m\u001b[0;34m\u001b[0m\u001b[0;34m\u001b[0m\u001b[0;34m\u001b[0m\u001b[0m\n",
      "\u001b[0;32m/Library/Frameworks/Python.framework/Versions/3.9/lib/python3.9/site-packages/pandas/core/indexing.py\u001b[0m in \u001b[0;36m_validate_integer\u001b[0;34m(self, key, axis)\u001b[0m\n\u001b[1;32m   1498\u001b[0m         \u001b[0mlen_axis\u001b[0m \u001b[0;34m=\u001b[0m \u001b[0mlen\u001b[0m\u001b[0;34m(\u001b[0m\u001b[0mself\u001b[0m\u001b[0;34m.\u001b[0m\u001b[0mobj\u001b[0m\u001b[0;34m.\u001b[0m\u001b[0m_get_axis\u001b[0m\u001b[0;34m(\u001b[0m\u001b[0maxis\u001b[0m\u001b[0;34m)\u001b[0m\u001b[0;34m)\u001b[0m\u001b[0;34m\u001b[0m\u001b[0;34m\u001b[0m\u001b[0m\n\u001b[1;32m   1499\u001b[0m         \u001b[0;32mif\u001b[0m \u001b[0mkey\u001b[0m \u001b[0;34m>=\u001b[0m \u001b[0mlen_axis\u001b[0m \u001b[0;32mor\u001b[0m \u001b[0mkey\u001b[0m \u001b[0;34m<\u001b[0m \u001b[0;34m-\u001b[0m\u001b[0mlen_axis\u001b[0m\u001b[0;34m:\u001b[0m\u001b[0;34m\u001b[0m\u001b[0;34m\u001b[0m\u001b[0m\n\u001b[0;32m-> 1500\u001b[0;31m             \u001b[0;32mraise\u001b[0m \u001b[0mIndexError\u001b[0m\u001b[0;34m(\u001b[0m\u001b[0;34m\"single positional indexer is out-of-bounds\"\u001b[0m\u001b[0;34m)\u001b[0m\u001b[0;34m\u001b[0m\u001b[0;34m\u001b[0m\u001b[0m\n\u001b[0m\u001b[1;32m   1501\u001b[0m \u001b[0;34m\u001b[0m\u001b[0m\n\u001b[1;32m   1502\u001b[0m     \u001b[0;31m# -------------------------------------------------------------------\u001b[0m\u001b[0;34m\u001b[0m\u001b[0;34m\u001b[0m\u001b[0;34m\u001b[0m\u001b[0m\n",
      "\u001b[0;31mIndexError\u001b[0m: single positional indexer is out-of-bounds"
     ]
    }
   ],
   "source": [
    "set_duplicates = set(duplicates)\n",
    "for r in set_duplicates:\n",
    "    dup = combined_csv[combined_csv['ESTABLECIMIENTO'] == r]\n",
    "    #print(combined_csv.loc[dup.iloc[1,:].name, 'ESTABLECIMIENTO'])\n",
    "    print(combined_csv.loc[dup.iloc[1,:].name]['ESTABLECIMIENTO'])\n",
    "    #combined_csv.loc[dup.iloc[1,:].name, 'ESTABLECIMIENTO'] = combined_csv.loc[dup.iloc[1,:].name]['ESTABLECIMIENTO'] + 'z'"
   ]
  },
  {
   "cell_type": "code",
   "execution_count": null,
   "id": "9bd7ae04-15bf-4a03-bd6b-d0d7dbf4f1b0",
   "metadata": {},
   "outputs": [],
   "source": [
    "combined_csv[combined_csv['ESTABLECIMIENTO'] =='INSTITUTO PRIVADO MIXTO DE OCCIDENTE']"
   ]
  },
  {
   "cell_type": "code",
   "execution_count": null,
   "id": "14da88ec-e741-47db-843e-0c09ab66e68f",
   "metadata": {},
   "outputs": [],
   "source": []
  },
  {
   "cell_type": "code",
   "execution_count": null,
   "id": "58eaab67-9a27-4572-b011-6218e2e54a94",
   "metadata": {},
   "outputs": [],
   "source": []
  }
 ],
 "metadata": {
  "kernelspec": {
   "display_name": "Python 3 (ipykernel)",
   "language": "python",
   "name": "python3"
  },
  "language_info": {
   "codemirror_mode": {
    "name": "ipython",
    "version": 3
   },
   "file_extension": ".py",
   "mimetype": "text/x-python",
   "name": "python",
   "nbconvert_exporter": "python",
   "pygments_lexer": "ipython3",
   "version": "3.9.6"
  }
 },
 "nbformat": 4,
 "nbformat_minor": 5
}
